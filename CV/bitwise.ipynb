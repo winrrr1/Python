{
 "cells": [
  {
   "cell_type": "code",
   "execution_count": 1,
   "metadata": {},
   "outputs": [
    {
     "data": {
      "image/png": "[encoded data removed]",
      "text/plain": [
       "<Figure size 640x480 with 6 Axes>"
      ]
     },
     "metadata": {},
     "output_type": "display_data"
    }
   ],
   "source": [
    "import numpy as np\n",
    "import cv2\n",
    "import matplotlib.pylab as plt\n",
    "\n",
    "#--① 연산에 사용할 이미지 생성\n",
    "# 두 개의 200x400 크기의 검정색(0) 이미지를 생성\n",
    "img1 = np.zeros((200, 400), dtype=np.uint8)\n",
    "img2 = np.zeros((200, 400), dtype=np.uint8)\n",
    "\n",
    "# img1의 왼쪽 절반을 흰색(255)으로 설정\n",
    "img1[:, :200] = 255         \n",
    "# img2의 아래쪽 절반을 흰색(255)으로 설정\n",
    "img2[100:200, :] = 255      \n",
    "\n",
    "#--② 비트와이즈 연산\n",
    "# 두 이미지에 대해 비트와이즈 연산 수행\n",
    "bitAnd = cv2.bitwise_and(img1, img2)  # AND 연산: 두 이미지의 공통된 흰색 부분만 남음\n",
    "bitOr = cv2.bitwise_or(img1, img2)   # OR 연산: 두 이미지에서 흰색 부분이 모두 남음\n",
    "bitXor = cv2.bitwise_xor(img1, img2) # XOR 연산: 서로 다른 부분만 남음\n",
    "bitNot = cv2.bitwise_not(img1)       # NOT 연산: img1의 흰색(255)과 검정색(0)을 반전시킴\n",
    "\n",
    "#--③ Plot으로 결과 출력\n",
    "# 생성된 이미지와 연산 결과를 matplotlib를 사용하여 출력\n",
    "imgs = {'img1': img1, 'img2': img2, 'and': bitAnd, \n",
    "        'or': bitOr, 'xor': bitXor, 'not(img1)': bitNot}\n",
    "\n",
    "for i, (title, img) in enumerate(imgs.items()):\n",
    "    plt.subplot(3, 2, i + 1)  # 3x2 배열로 서브플롯 설정\n",
    "    plt.title(title)  # 서브플롯 제목 설정\n",
    "    plt.imshow(img, 'gray')  # 이미지를 회색조로 표시\n",
    "    plt.xticks([])  # x축 눈금 제거\n",
    "    plt.yticks([])  # y축 눈금 제거\n",
    "\n",
    "plt.show()  # 모든 서브플롯을 화면에 표시\n"
   ]
  },
  {
   "cell_type": "code",
   "execution_count": null,
   "metadata": {},
   "outputs": [],
   "source": []
  }
 ],
 "metadata": {
  "kernelspec": {
   "display_name": "cv",
   "language": "python",
   "name": "python3"
  },
  "language_info": {
   "codemirror_mode": {
    "name": "ipython",
    "version": 3
   },
   "file_extension": ".py",
   "mimetype": "text/x-python",
   "name": "python",
   "nbconvert_exporter": "python",
   "pygments_lexer": "ipython3",
   "version": "3.9.16"
  }
 },
 "nbformat": 4,
 "nbformat_minor": 2
}
