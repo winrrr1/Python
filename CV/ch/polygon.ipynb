{
 "cells": [
  {
   "cell_type": "code",
   "execution_count": 1,
   "metadata": {},
   "outputs": [],
   "source": [
    "import numpy as np\n",
    "import cv2\n",
    "import math\n",
    "\n",
    "\n",
    "def setLabel(img, pts, label):\n",
    "    (x, y, w, h) = cv2.boundingRect(pts)\n",
    "    pt1 = (x, y)\n",
    "    pt2 = (x + w, y + h)\n",
    "    cv2.rectangle(img, pt1, pt2, (0, 0, 255), 1)\n",
    "    cv2.putText(img, label, pt1, cv2.FONT_HERSHEY_PLAIN, 1, (0, 0, 255))\n",
    "\n",
    "\n",
    "def main():\n",
    "    img = cv2.imread('polygon.bmp', cv2.IMREAD_COLOR)\n",
    "\n",
    "    if img is None:\n",
    "        print('Image load failed!')\n",
    "        return\n",
    "\n",
    "    gray = cv2.cvtColor(img, cv2.COLOR_BGR2GRAY)\n",
    "    _, img_bin = cv2.threshold(gray, 0, 255, cv2.THRESH_BINARY_INV | cv2.THRESH_OTSU)\n",
    "    contours, _ = cv2.findContours(img_bin, cv2.RETR_EXTERNAL, cv2.CHAIN_APPROX_NONE)\n",
    "\n",
    "    for pts in contours:\n",
    "        if cv2.contourArea(pts) < 400:\n",
    "            continue\n",
    "\n",
    "        approx = cv2.approxPolyDP(pts, cv2.arcLength(pts, True)*0.02, True)\n",
    "\n",
    "        vtc = len(approx)\n",
    "\n",
    "        if vtc == 3:\n",
    "            setLabel(img, pts, 'TRI')\n",
    "        elif vtc == 4:\n",
    "            setLabel(img, pts, 'RECT')\n",
    "        else:\n",
    "            lenth = cv2.arcLength(pts, True)\n",
    "            area = cv2.contourArea(pts)\n",
    "            ratio = 4. * math.pi * area / (lenth * lenth)\n",
    "\n",
    "            if ratio > 0.85:\n",
    "                setLabel(img, pts, 'CIR')\n",
    "\n",
    "    cv2.imwrite('C:/Users/winrr/Pictures/Screenshots/pfile/poltgon.jpg',img) \n",
    "\n",
    "    cv2.imshow('img', img)\n",
    "    cv2.waitKey()\n",
    "    cv2.destroyAllWindows()\n",
    "\n",
    "\n",
    "if __name__ == '__main__':\n",
    "    main()\n"
   ]
  },
  {
   "cell_type": "code",
   "execution_count": null,
   "metadata": {},
   "outputs": [],
   "source": []
  }
 ],
 "metadata": {
  "kernelspec": {
   "display_name": "cv",
   "language": "python",
   "name": "python3"
  },
  "language_info": {
   "codemirror_mode": {
    "name": "ipython",
    "version": 3
   },
   "file_extension": ".py",
   "mimetype": "text/x-python",
   "name": "python",
   "nbconvert_exporter": "python",
   "pygments_lexer": "ipython3",
   "version": "3.9.16"
  }
 },
 "nbformat": 4,
 "nbformat_minor": 2
}
