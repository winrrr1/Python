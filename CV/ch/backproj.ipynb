{
 "cells": [
  {
   "cell_type": "code",
   "execution_count": 2,
   "metadata": {},
   "outputs": [],
   "source": [
    "import numpy as np\n",
    "import cv2\n",
    "\n",
    "# 참조 이미지에서 CrCb 히스토그램을 계산합니다\n",
    "ref = cv2.imread('ref.png', cv2.IMREAD_COLOR)  # 참조 이미지를 컬러로 불러오기\n",
    "mask = cv2.imread('mask.bmp', cv2.IMREAD_GRAYSCALE)  # 마스크 이미지를 그레이스케일로 불러오기\n",
    "ref_ycrcb = cv2.cvtColor(ref, cv2.COLOR_BGR2YCrCb)  # 참조 이미지를 YCrCb 색상 공간으로 변환\n",
    "\n",
    "# Cr, Cb 채널의 히스토그램 계산을 위한 설정\n",
    "channels = [1, 2]  # Cr(1)과 Cb(2) 채널을 사용\n",
    "cr_bins = 128  # Cr 채널의 히스토그램 빈 개수\n",
    "cb_bins = 128  # Cb 채널의 히스토그램 빈 개수\n",
    "histSize = [cr_bins, cb_bins]  # 히스토그램 크기\n",
    "cr_range = [0, 256]  # Cr 채널의 범위\n",
    "cb_range = [0, 256]  # Cb 채널의 범위\n",
    "ranges = cr_range + cb_range  # Cr과 Cb 채널의 전체 범위\n",
    "\n",
    "# 참조 이미지의 YCrCb 색상 공간에서 히스토그램 계산\n",
    "hist = cv2.calcHist([ref_ycrcb], channels, mask, histSize, ranges)\n",
    "\n",
    "# 입력 이미지에 히스토그램 역투영 적용\n",
    "src = cv2.imread('kids.png', cv2.IMREAD_COLOR)  # 입력 이미지를 컬러로 불러오기\n",
    "src_ycrcb = cv2.cvtColor(src, cv2.COLOR_BGR2YCrCb)  # 입력 이미지를 YCrCb 색상 공간으로 변환\n",
    "\n",
    "# 입력 이미지의 YCrCb 색상 공간에서 히스토그램 역투영 계산\n",
    "backproj = cv2.calcBackProject([src_ycrcb], channels, hist, ranges, scale=1)\n",
    "\n",
    "# 결과 이미지 출력\n",
    "cv2.imshow('src', src)  # 원본 이미지 출력\n",
    "cv2.imshow('backproj', backproj)  # 히스토그램 역투영 이미지 출력\n",
    "cv2.imwrite('C:/Users/winrr/Pictures/Screenshots/pfile/backproj.jpg',backproj)\n",
    "cv2.waitKey()  # 키 입력 대기\n",
    "cv2.destroyAllWindows()  # 모든 창 닫기\n"
   ]
  },
  {
   "cell_type": "code",
   "execution_count": null,
   "metadata": {},
   "outputs": [],
   "source": []
  }
 ],
 "metadata": {
  "kernelspec": {
   "display_name": "cv",
   "language": "python",
   "name": "python3"
  },
  "language_info": {
   "codemirror_mode": {
    "name": "ipython",
    "version": 3
   },
   "file_extension": ".py",
   "mimetype": "text/x-python",
   "name": "python",
   "nbconvert_exporter": "python",
   "pygments_lexer": "ipython3",
   "version": "3.9.16"
  }
 },
 "nbformat": 4,
 "nbformat_minor": 2
}
