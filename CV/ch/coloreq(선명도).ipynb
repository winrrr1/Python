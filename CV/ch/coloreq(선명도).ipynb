{
 "cells": [
  {
   "cell_type": "code",
   "execution_count": 1,
   "metadata": {},
   "outputs": [],
   "source": [
    "import sys\n",
    "import cv2\n",
    "\n",
    "# 이미지를 컬러로 불러오기\n",
    "src = cv2.imread('pepper.bmp', cv2.IMREAD_COLOR)\n",
    "\n",
    "# 이미지 로드에 실패하면 오류 메시지를 출력하고 프로그램 종료\n",
    "if src is None:\n",
    "    print('Image load failed!')\n",
    "    sys.exit()\n",
    "\n",
    "# 이미지를 YCrCb 색 공간으로 변환\n",
    "src_ycrcb = cv2.cvtColor(src, cv2.COLOR_BGR2YCrCb)\n",
    "\n",
    "# Y, Cr, Cb 채널로 분리 (리스트로 변환)\n",
    "ycrcb_planes = list(cv2.split(src_ycrcb))\n",
    "\n",
    "# Y 채널에 대해 히스토그램 평활화 적용 (밝기 향상)\n",
    "ycrcb_planes[0] = cv2.equalizeHist(ycrcb_planes[0])\n",
    "\n",
    "# 평활화된 Y 채널과 원래 Cr, Cb 채널을 병합\n",
    "dst_ycrcb = cv2.merge(ycrcb_planes)\n",
    "\n",
    "# 병합된 YCrCb 이미지를 다시 BGR 색 공간으로 변환\n",
    "dst = cv2.cvtColor(dst_ycrcb, cv2.COLOR_YCrCb2BGR)\n",
    "\n",
    "# 원본 이미지와 변환된 이미지 출력\n",
    "cv2.imwrite('C:/Users/winrr/Pictures/Screenshots/pfile/coloreq.jpg',dst)\n",
    "cv2.imshow('src', src)\n",
    "cv2.imshow('dst', dst)\n",
    "cv2.waitKey()  # 키 입력 대기\n",
    "cv2.destroyAllWindows()  # 모든 창 닫기\n"
   ]
  },
  {
   "cell_type": "code",
   "execution_count": null,
   "metadata": {},
   "outputs": [],
   "source": []
  },
  {
   "cell_type": "code",
   "execution_count": null,
   "metadata": {},
   "outputs": [],
   "source": []
  }
 ],
 "metadata": {
  "kernelspec": {
   "display_name": "cv",
   "language": "python",
   "name": "python3"
  },
  "language_info": {
   "codemirror_mode": {
    "name": "ipython",
    "version": 3
   },
   "file_extension": ".py",
   "mimetype": "text/x-python",
   "name": "python",
   "nbconvert_exporter": "python",
   "pygments_lexer": "ipython3",
   "version": "3.9.16"
  }
 },
 "nbformat": 4,
 "nbformat_minor": 2
}
