{
 "cells": [
  {
   "cell_type": "code",
   "execution_count": 3,
   "metadata": {},
   "outputs": [],
   "source": [
    "import sys\n",
    "import numpy as np\n",
    "import cv2\n",
    "\n",
    "# 웹캠 열기\n",
    "cap = cv2.VideoCapture(0)\n",
    "\n",
    "# 웹캠을 열지 못했을 경우 에러 메시지 출력 후 종료\n",
    "if not cap.isOpened():\n",
    "    print('비디오를 열 수 없습니다!')\n",
    "    sys.exit()\n",
    "\n",
    "# QR 코드 탐지기 객체 생성\n",
    "detector = cv2.QRCodeDetector()\n",
    "\n",
    "# 비디오 프레임을 읽어 들여 처리하는 루프\n",
    "while True:\n",
    "    ret, frame = cap.read()  # 프레임 읽기\n",
    "\n",
    "    # 프레임을 읽지 못했을 경우 에러 메시지 출력 후 루프 종료\n",
    "    if not ret:\n",
    "        print('프레임을 읽을 수 없습니다!')\n",
    "        break\n",
    "\n",
    "    # QR 코드 탐지 및 디코딩\n",
    "    info, points, _ = detector.detectAndDecode(frame)\n",
    "\n",
    "    # QR 코드의 모서리가 탐지되었을 경우, 사각형 그리기\n",
    "    if points is not None:\n",
    "        points = np.array(points, dtype=np.int32).reshape(4, 2)\n",
    "        cv2.polylines(frame, [points], True, (0, 0, 255), 2)  # 빨간색 사각형\n",
    "\n",
    "    # QR 코드 정보가 있을 경우, 화면에 텍스트로 표시\n",
    "    if len(info) > 0:\n",
    "        cv2.putText(frame, info, (10, 30), cv2.FONT_HERSHEY_DUPLEX, 1, (0, 0, 255), lineType=cv2.LINE_AA)  # 빨간색 텍스트\n",
    "\n",
    "    # 결과 프레임 출력\n",
    "    cv2.imshow('frame', frame)\n",
    "\n",
    "    # ESC 키를 누르면 루프 종료\n",
    "    if cv2.waitKey(1) == 27:\n",
    "        break\n",
    "\n",
    "# 모든 창 닫기\n",
    "cv2.destroyAllWindows()\n"
   ]
  },
  {
   "cell_type": "code",
   "execution_count": null,
   "metadata": {},
   "outputs": [],
   "source": []
  }
 ],
 "metadata": {
  "kernelspec": {
   "display_name": "cv",
   "language": "python",
   "name": "python3"
  },
  "language_info": {
   "codemirror_mode": {
    "name": "ipython",
    "version": 3
   },
   "file_extension": ".py",
   "mimetype": "text/x-python",
   "name": "python",
   "nbconvert_exporter": "python",
   "pygments_lexer": "ipython3",
   "version": "3.9.16"
  }
 },
 "nbformat": 4,
 "nbformat_minor": 2
}
