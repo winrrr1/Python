{
 "cells": [
  {
   "cell_type": "code",
   "execution_count": 1,
   "metadata": {},
   "outputs": [
    {
     "ename": "error",
     "evalue": "OpenCV(4.10.0) D:\\a\\opencv-python\\opencv-python\\opencv\\modules\\highgui\\src\\window.cpp:868: error: (-215:Assertion failed) trackbar in function 'cv::getTrackbarPos'\n",
     "output_type": "error",
     "traceback": [
      "\u001b[1;31m---------------------------------------------------------------------------\u001b[0m",
      "\u001b[1;31merror\u001b[0m                                     Traceback (most recent call last)",
      "Cell \u001b[1;32mIn[1], line 8\u001b[0m, in \u001b[0;36mon_hue_changed\u001b[1;34m(_)\u001b[0m\n\u001b[0;32m      5\u001b[0m \u001b[38;5;28;01mdef\u001b[39;00m \u001b[38;5;21mon_hue_changed\u001b[39m(_\u001b[38;5;241m=\u001b[39m\u001b[38;5;28;01mNone\u001b[39;00m):\n\u001b[0;32m      6\u001b[0m     \u001b[38;5;66;03m# 'Lower Hue'와 'Upper Hue' 트랙바의 현재 값을 가져옴\u001b[39;00m\n\u001b[0;32m      7\u001b[0m     lower_hue \u001b[38;5;241m=\u001b[39m cv2\u001b[38;5;241m.\u001b[39mgetTrackbarPos(\u001b[38;5;124m'\u001b[39m\u001b[38;5;124mLower Hue\u001b[39m\u001b[38;5;124m'\u001b[39m, \u001b[38;5;124m'\u001b[39m\u001b[38;5;124mmask\u001b[39m\u001b[38;5;124m'\u001b[39m)\n\u001b[1;32m----> 8\u001b[0m     upper_hue \u001b[38;5;241m=\u001b[39m \u001b[43mcv2\u001b[49m\u001b[38;5;241;43m.\u001b[39;49m\u001b[43mgetTrackbarPos\u001b[49m\u001b[43m(\u001b[49m\u001b[38;5;124;43m'\u001b[39;49m\u001b[38;5;124;43mUpper Hue\u001b[39;49m\u001b[38;5;124;43m'\u001b[39;49m\u001b[43m,\u001b[49m\u001b[43m \u001b[49m\u001b[38;5;124;43m'\u001b[39;49m\u001b[38;5;124;43mmask\u001b[39;49m\u001b[38;5;124;43m'\u001b[39;49m\u001b[43m)\u001b[49m\n\u001b[0;32m     10\u001b[0m     \u001b[38;5;66;03m# 하한값과 상한값 설정 (Hue 범위에 따른 마스크 생성)\u001b[39;00m\n\u001b[0;32m     11\u001b[0m     lowerb \u001b[38;5;241m=\u001b[39m (lower_hue, \u001b[38;5;241m100\u001b[39m, \u001b[38;5;241m0\u001b[39m)\n",
      "\u001b[1;31merror\u001b[0m: OpenCV(4.10.0) D:\\a\\opencv-python\\opencv-python\\opencv\\modules\\highgui\\src\\window.cpp:868: error: (-215:Assertion failed) trackbar in function 'cv::getTrackbarPos'\n"
     ]
    }
   ],
   "source": [
    "import numpy as np\n",
    "import cv2\n",
    "\n",
    "# 트랙바가 변경될 때 호출되는 콜백 함수\n",
    "def on_hue_changed(_=None):\n",
    "    # 'Lower Hue'와 'Upper Hue' 트랙바의 현재 값을 가져옴\n",
    "    lower_hue = cv2.getTrackbarPos('Lower Hue', 'mask')\n",
    "    upper_hue = cv2.getTrackbarPos('Upper Hue', 'mask')\n",
    "\n",
    "    # 하한값과 상한값 설정 (Hue 범위에 따른 마스크 생성)\n",
    "    lowerb = (lower_hue, 100, 0)\n",
    "    upperb = (upper_hue, 255, 255)\n",
    "    \n",
    "    # HSV 색상 범위에 맞는 마스크 생성\n",
    "    mask = cv2.inRange(src_hsv, lowerb, upperb)\n",
    "\n",
    "    # 마스크 화면에 출력\n",
    "    cv2.imshow('mask', mask)\n",
    "\n",
    "    cv2.imwrite('C:/Users/winrr/Pictures/Screenshots/pfile/inrange.jpg',mask)\n",
    "\n",
    "# 메인 함수\n",
    "def main():\n",
    "    global src_hsv  # 콜백 함수에서 접근할 수 있도록 전역 변수로 설정\n",
    "\n",
    "    # 이미지를 컬러로 불러오기\n",
    "    src = cv2.imread('candies.png', cv2.IMREAD_COLOR)\n",
    "\n",
    "    # 이미지 로드 실패 시 오류 메시지 출력 후 함수 종료\n",
    "    if src is None:\n",
    "        print('Image load failed!')\n",
    "        return\n",
    "\n",
    "    # BGR 이미지를 HSV 색상 공간으로 변환\n",
    "    src_hsv = cv2.cvtColor(src, cv2.COLOR_BGR2HSV)\n",
    "\n",
    "    # 원본 이미지 출력\n",
    "    cv2.imshow('src', src)\n",
    "\n",
    "    # 'mask'라는 이름의 윈도우 생성\n",
    "    cv2.namedWindow('mask')\n",
    "\n",
    "    # 'Lower Hue'와 'Upper Hue' 트랙바 생성, 초기값 설정\n",
    "    cv2.createTrackbar('Lower Hue', 'mask', 40, 179, on_hue_changed)\n",
    "    cv2.createTrackbar('Upper Hue', 'mask', 80, 179, on_hue_changed)\n",
    "\n",
    "    # 초기 트랙바 위치에 따른 마스크 출력\n",
    "    on_hue_changed(0)\n",
    "\n",
    "    # 키 입력 대기\n",
    "    cv2.waitKey()\n",
    "    \n",
    "    # 모든 창 닫기\n",
    "    cv2.destroyAllWindows()\n",
    "\n",
    "# 스크립트 실행 부분\n",
    "if __name__ == '__main__':\n",
    "    main()\n"
   ]
  },
  {
   "cell_type": "code",
   "execution_count": null,
   "metadata": {},
   "outputs": [],
   "source": []
  }
 ],
 "metadata": {
  "kernelspec": {
   "display_name": "cv",
   "language": "python",
   "name": "python3"
  },
  "language_info": {
   "codemirror_mode": {
    "name": "ipython",
    "version": 3
   },
   "file_extension": ".py",
   "mimetype": "text/x-python",
   "name": "python",
   "nbconvert_exporter": "python",
   "pygments_lexer": "ipython3",
   "version": "3.9.16"
  }
 },
 "nbformat": 4,
 "nbformat_minor": 2
}
