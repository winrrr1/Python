{
 "cells": [
  {
   "cell_type": "code",
   "execution_count": 1,
   "metadata": {},
   "outputs": [],
   "source": [
    "import sys\n",
    "import numpy as np\n",
    "import cv2\n",
    "\n",
    "\n",
    "src = cv2.imread('rose.bmp', cv2.IMREAD_GRAYSCALE)\n",
    "\n",
    "if src is None:\n",
    "    print('Image load failed!')\n",
    "    sys.exit()\n",
    "\n",
    "emboss = np.array([[-1, -1, 0],\n",
    "                   [-1, 0, 1],\n",
    "                   [0, 1, 1]], np.float32)\n",
    "\n",
    "dst = cv2.filter2D(src, -1, emboss, delta=128)\n",
    "\n",
    "cv2.imshow('src', src)\n",
    "cv2.imshow('dst', dst)\n",
    "\n",
    "cv2.waitKey()\n",
    "cv2.destroyAllWindows()\n"
   ]
  },
  {
   "cell_type": "code",
   "execution_count": 8,
   "metadata": {},
   "outputs": [],
   "source": [
    "import sys\n",
    "import numpy as np\n",
    "import cv2\n",
    "\n",
    "# 이미지 파일을 그레이스케일로 읽어옴\n",
    "src = cv2.imread(\"../img/m.jpg\", cv2.IMREAD_GRAYSCALE)\n",
    "\n",
    "# 이미지 로드 실패 시 오류 메시지를 출력하고 프로그램 종료\n",
    "if src is None:\n",
    "    print('Image load failed!')\n",
    "    sys.exit()\n",
    "\n",
    "# 엠보싱 필터 커널 정의\n",
    "emboss = np.array([[-1, -1, 0],  # 엠보싱 효과를 위한 커널 행렬\n",
    "                   [-1, 0, 1],\n",
    "                   [0, 1, 1]], np.float32)\n",
    "\n",
    "# 엠보싱 필터를 입력 이미지에 적용, delta=128은 밝기 조정을 위한 상수\n",
    "dst = cv2.filter2D(src, -1, emboss, delta=128)\n",
    "\n",
    "# 원본 이미지와 필터 적용된 이미지를 윈도우에 출력\n",
    "cv2.imshow('src', src)  # 원본 이미지 출력\n",
    "cv2.imshow('dst', dst)  # 엠보싱 필터 적용된 이미지 출력\n",
    "\n",
    "# # 병합된 이미지를 파일에 저장 ---③\n",
    "cv2.imwrite(r'C:\\Users\\winrr\\Pictures\\Screenshots\\pfile\\ch07filter.png', dst)\n",
    "\n",
    "# 키 입력을 대기\n",
    "cv2.waitKey()\n",
    "\n",
    "# 모든 창을 닫음\n",
    "cv2.destroyAllWindows()\n"
   ]
  },
  {
   "cell_type": "code",
   "execution_count": null,
   "metadata": {},
   "outputs": [],
   "source": []
  }
 ],
 "metadata": {
  "kernelspec": {
   "display_name": "cv",
   "language": "python",
   "name": "python3"
  },
  "language_info": {
   "codemirror_mode": {
    "name": "ipython",
    "version": 3
   },
   "file_extension": ".py",
   "mimetype": "text/x-python",
   "name": "python",
   "nbconvert_exporter": "python",
   "pygments_lexer": "ipython3",
   "version": "3.9.16"
  }
 },
 "nbformat": 4,
 "nbformat_minor": 2
}
