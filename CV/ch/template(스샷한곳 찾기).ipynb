{
 "cells": [
  {
   "cell_type": "code",
   "execution_count": 6,
   "metadata": {},
   "outputs": [
    {
     "name": "stdout",
     "output_type": "stream",
     "text": [
      "maxv: 0.9884196519851685\n"
     ]
    }
   ],
   "source": [
    "import sys\n",
    "import numpy as np\n",
    "import cv2\n",
    "\n",
    "# 이미지와 템플릿 이미지 읽기\n",
    "img = cv2.imread('circuit.bmp', cv2.IMREAD_COLOR)  # 원본 이미지\n",
    "templ = cv2.imread('crystal.bmp', cv2.IMREAD_COLOR)  # 찾을 템플릿 이미지\n",
    "\n",
    "# 이미지 로드 실패 시 에러 메시지 출력 후 종료\n",
    "if img is None or templ is None:\n",
    "    print('Image load failed!')\n",
    "    sys.exit()\n",
    "\n",
    "# 이미지 밝기 증가 (50, 50, 50 값을 더함)\n",
    "img = img + (50, 50, 50)\n",
    "\n",
    "# 노이즈 추가: img와 동일한 크기의 노이즈 생성\n",
    "noise = np.zeros(img.shape, np.int32)\n",
    "cv2.randn(noise, 0, 10)  # 평균 0, 표준편차 10인 노이즈 생성\n",
    "img = cv2.add(img, noise, dtype=cv2.CV_8UC3)  # 이미지에 노이즈 추가\n",
    "\n",
    "# 템플릿 매칭 수행 (TM_CCOEFF_NORMED 방식 사용)\n",
    "res = cv2.matchTemplate(img, templ, cv2.TM_CCOEFF_NORMED)\n",
    "\n",
    "# 결과값 정규화 (0~255 사이로 변환)\n",
    "res_norm = cv2.normalize(res, None, 0, 255, cv2.NORM_MINMAX, cv2.CV_8U)\n",
    "\n",
    "# 템플릿 매칭 결과 중 최대값 위치 찾기\n",
    "_, maxv, _, maxloc = cv2.minMaxLoc(res)\n",
    "print('maxv:', maxv)  # 최대 매칭 점수 출력\n",
    "\n",
    "# 템플릿 크기를 얻고, 매칭된 위치에 사각형 그리기\n",
    "(th, tw) = templ.shape[:2]  # 템플릿의 높이와 너비\n",
    "cv2.rectangle(img, maxloc, (maxloc[0] + tw, maxloc[1] + th), (0, 0, 255), 2)  # 매칭된 위치에 빨간 사각형 그리기\n",
    "\n",
    "# 결과 이미지 출력\n",
    "cv2.imwrite('C:/Users/winrr/Pictures/Screenshots/pfile/template.jpg',img) \n",
    "cv2.imshow('templ', templ)  # 템플릿 이미지 출력\n",
    "cv2.imshow('res_norm', res_norm)  # 매칭 결과 출력\n",
    "cv2.imshow('img', img)  # 매칭된 이미지 출력\n",
    "cv2.waitKey()\n",
    "cv2.destroyAllWindows()\n"
   ]
  },
  {
   "cell_type": "code",
   "execution_count": 4,
   "metadata": {},
   "outputs": [
    {
     "name": "stdout",
     "output_type": "stream",
     "text": [
      "maxv: 0.9824373722076416\n"
     ]
    }
   ],
   "source": [
    "import sys\n",
    "import numpy as np\n",
    "import cv2\n",
    "\n",
    "# 이미지와 템플릿 이미지 읽기\n",
    "img = cv2.imread('C:\\ex\\py\\cv\\img\\w.jpg', cv2.IMREAD_COLOR)  # 원본 이미지\n",
    "templ = cv2.imread('C:\\ex\\py\\cv\\img\\wcoin.jpg', cv2.IMREAD_COLOR)  # 찾을 템플릿 이미지\n",
    "\n",
    "# 이미지 로드 실패 시 에러 메시지 출력 후 종료\n",
    "if img is None or templ is None:\n",
    "    print('Image load failed!')\n",
    "    sys.exit()\n",
    "\n",
    "# 이미지 밝기 증가 (50, 50, 50 값을 더함)\n",
    "img = img + (50, 50, 50)\n",
    "\n",
    "# 노이즈 추가: img와 동일한 크기의 노이즈 생성\n",
    "noise = np.zeros(img.shape, np.int32)\n",
    "cv2.randn(noise, 0, 10)  # 평균 0, 표준편차 10인 노이즈 생성\n",
    "img = cv2.add(img, noise, dtype=cv2.CV_8UC3)  # 이미지에 노이즈 추가\n",
    "\n",
    "# 템플릿 매칭 수행 (TM_CCOEFF_NORMED 방식 사용)\n",
    "res = cv2.matchTemplate(img, templ, cv2.TM_CCOEFF_NORMED)\n",
    "\n",
    "# 결과값 정규화 (0~255 사이로 변환)\n",
    "res_norm = cv2.normalize(res, None, 0, 255, cv2.NORM_MINMAX, cv2.CV_8U)\n",
    "\n",
    "# 템플릿 매칭 결과 중 최대값 위치 찾기\n",
    "_, maxv, _, maxloc = cv2.minMaxLoc(res)\n",
    "print('maxv:', maxv)  # 최대 매칭 점수 출력\n",
    "\n",
    "# 템플릿 크기를 얻고, 매칭된 위치에 사각형 그리기\n",
    "(th, tw) = templ.shape[:2]  # 템플릿의 높이와 너비\n",
    "cv2.rectangle(img, maxloc, (maxloc[0] + tw, maxloc[1] + th), (0, 0, 255), 2)  # 매칭된 위치에 빨간 사각형 그리기\n",
    "\n",
    "# 결과 이미지 출력\n",
    "cv2.imwrite('C:/Users/winrr/Pictures/Screenshots/pfile/template1.jpg',img)\n",
    "cv2.imshow('templ', templ)  # 템플릿 이미지 출력\n",
    "cv2.imshow('res_norm', res_norm)  # 매칭 결과 출력\n",
    "cv2.imshow('img', img)  # 매칭된 이미지 출력\n",
    "cv2.waitKey()\n",
    "cv2.destroyAllWindows()\n"
   ]
  },
  {
   "cell_type": "code",
   "execution_count": null,
   "metadata": {},
   "outputs": [],
   "source": []
  }
 ],
 "metadata": {
  "kernelspec": {
   "display_name": "cv",
   "language": "python",
   "name": "python3"
  },
  "language_info": {
   "codemirror_mode": {
    "name": "ipython",
    "version": 3
   },
   "file_extension": ".py",
   "mimetype": "text/x-python",
   "name": "python",
   "nbconvert_exporter": "python",
   "pygments_lexer": "ipython3",
   "version": "3.9.16"
  }
 },
 "nbformat": 4,
 "nbformat_minor": 2
}
