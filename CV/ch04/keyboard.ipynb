{
 "cells": [
  {
   "cell_type": "code",
   "execution_count": 1,
   "metadata": {},
   "outputs": [],
   "source": [
    "import sys\n",
    "import numpy as np\n",
    "import cv2\n",
    "\n",
    "# 'lenna.bmp' 이미지를 읽어옴\n",
    "img = cv2.imread('lenna.bmp')\n",
    "\n",
    "# 이미지를 로드할 수 없으면 에러 메시지 출력 후 프로그램 종료\n",
    "if img is None:\n",
    "    print('Image load failed!')\n",
    "    sys.exit()\n",
    "\n",
    "# 'img'라는 이름의 창을 생성\n",
    "cv2.namedWindow('img')\n",
    "# 'img' 창에 이미지를 표시\n",
    "cv2.imshow('img', img)\n",
    "\n",
    "# 무한 루프를 돌며 키 입력을 기다림\n",
    "while True:\n",
    "    keycode = cv2.waitKey()  # 키보드 입력을 기다림\n",
    "    if keycode == ord('i') or keycode == ord('I'):  # 'i' 또는 'I' 키가 눌렸을 때\n",
    "        img = ~img  # 이미지의 색상을 반전 (비트 반전)\n",
    "        cv2.imshow('img', img)  # 반전된 이미지를 'img' 창에 다시 표시\n",
    "    elif keycode == 27 or keycode == ord('q') or keycode == ord('Q'):  # 'Esc' 또는 'q', 'Q' 키가 눌렸을 때\n",
    "        break  # 루프를 빠져나가 종료\n",
    "\n",
    "# 모든 창을 닫음\n",
    "cv2.destroyAllWindows()\n"
   ]
  },
  {
   "cell_type": "code",
   "execution_count": null,
   "metadata": {},
   "outputs": [],
   "source": []
  }
 ],
 "metadata": {
  "kernelspec": {
   "display_name": "cv",
   "language": "python",
   "name": "python3"
  },
  "language_info": {
   "codemirror_mode": {
    "name": "ipython",
    "version": 3
   },
   "file_extension": ".py",
   "mimetype": "text/x-python",
   "name": "python",
   "nbconvert_exporter": "python",
   "pygments_lexer": "ipython3",
   "version": "3.9.16"
  }
 },
 "nbformat": 4,
 "nbformat_minor": 2
}
