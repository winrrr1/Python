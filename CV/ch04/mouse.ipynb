{
 "cells": [
  {
   "cell_type": "code",
   "execution_count": 2,
   "metadata": {},
   "outputs": [
    {
     "name": "stdout",
     "output_type": "stream",
     "text": [
      "EVENT_LBUTTONDOWN: 55, 23\n",
      "EVENT_LBUTTONUP: 245, 89\n",
      "EVENT_LBUTTONDOWN: 174, 37\n",
      "EVENT_LBUTTONUP: 168, 57\n",
      "EVENT_LBUTTONDOWN: 107, 97\n",
      "EVENT_LBUTTONUP: 108, 97\n",
      "EVENT_LBUTTONDOWN: 185, 116\n",
      "EVENT_LBUTTONUP: 185, 118\n",
      "EVENT_LBUTTONDOWN: 138, 135\n",
      "EVENT_LBUTTONUP: 138, 135\n",
      "EVENT_LBUTTONDOWN: 300, 48\n",
      "EVENT_LBUTTONUP: 303, 47\n",
      "EVENT_LBUTTONDOWN: 271, 162\n",
      "EVENT_LBUTTONUP: 257, 243\n",
      "EVENT_LBUTTONDOWN: 142, 137\n",
      "EVENT_LBUTTONUP: 95, 125\n",
      "EVENT_LBUTTONDOWN: 88, 106\n",
      "EVENT_LBUTTONUP: 316, 153\n",
      "EVENT_LBUTTONDOWN: 106, 78\n",
      "EVENT_LBUTTONUP: 106, 78\n",
      "EVENT_LBUTTONDOWN: 91, 91\n",
      "EVENT_LBUTTONUP: 91, 91\n"
     ]
    }
   ],
   "source": [
    "import sys\n",
    "import numpy as np\n",
    "import cv2\n",
    "\n",
    "# 마우스 이벤트 처리를 위한 콜백 함수 정의\n",
    "def on_mouse(event, x, y, flags, param):\n",
    "    global oldx, oldy  # 이전 좌표를 저장할 전역 변수 선언\n",
    "\n",
    "    if event == cv2.EVENT_LBUTTONDOWN:  # 마우스 왼쪽 버튼을 누를 때 발생하는 이벤트\n",
    "        oldx, oldy = x, y  # 현재 좌표를 저장\n",
    "        print('EVENT_LBUTTONDOWN: %d, %d' % (x, y))  # 눌린 좌표 출력\n",
    "\n",
    "    elif event == cv2.EVENT_LBUTTONUP:  # 마우스 왼쪽 버튼을 뗄 때 발생하는 이벤트\n",
    "        print('EVENT_LBUTTONUP: %d, %d' % (x, y))  # 뗀 좌표 출력\n",
    "\n",
    "    elif event == cv2.EVENT_MOUSEMOVE:  # 마우스 이동 시 발생하는 이벤트\n",
    "        if flags & cv2.EVENT_FLAG_LBUTTON:  # 마우스 왼쪽 버튼이 눌린 상태에서 이동할 때\n",
    "            cv2.line(img, (oldx, oldy), (x, y), (0, 255, 255), 2)  # 이전 좌표와 현재 좌표를 잇는 선을 그림\n",
    "            cv2.imshow('img', img)  # 그림이 그려진 이미지를 창에 다시 표시\n",
    "            oldx, oldy = x, y  # 현재 좌표를 이전 좌표로 업데이트\n",
    "\n",
    "# 이미지를 불러옴\n",
    "img = cv2.imread('lenna.bmp')\n",
    "\n",
    "if img is None:  # 이미지 로드 실패 시\n",
    "    print('Image load failed!')  # 에러 메시지 출력\n",
    "    sys.exit()  # 프로그램 종료\n",
    "\n",
    "cv2.namedWindow('img')  # 'img'라는 이름의 창을 생성\n",
    "cv2.setMouseCallback('img', on_mouse)  # 'img' 창에 마우스 콜백 함수 등록\n",
    "\n",
    "cv2.imshow('img', img)  # 'img' 창에 이미지를 표시\n",
    "cv2.waitKey()  # 키 입력을 기다림\n",
    "cv2.destroyAllWindows()  # 모든 창을 닫음\n"
   ]
  },
  {
   "cell_type": "code",
   "execution_count": null,
   "metadata": {},
   "outputs": [],
   "source": []
  }
 ],
 "metadata": {
  "kernelspec": {
   "display_name": "cv",
   "language": "python",
   "name": "python3"
  },
  "language_info": {
   "codemirror_mode": {
    "name": "ipython",
    "version": 3
   },
   "file_extension": ".py",
   "mimetype": "text/x-python",
   "name": "python",
   "nbconvert_exporter": "python",
   "pygments_lexer": "ipython3",
   "version": "3.9.16"
  }
 },
 "nbformat": 4,
 "nbformat_minor": 2
}
