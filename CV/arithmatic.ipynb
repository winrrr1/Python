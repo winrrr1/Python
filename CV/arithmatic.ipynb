{
 "cells": [
  {
   "cell_type": "code",
   "execution_count": 2,
   "metadata": {},
   "outputs": [
    {
     "data": {
      "text/plain": [
       "numpy.uint8"
      ]
     },
     "execution_count": 2,
     "metadata": {},
     "output_type": "execute_result"
    }
   ],
   "source": [
    "import cv2\n",
    "import numpy as np\n",
    "\n",
    "np.uint8"
   ]
  },
  {
   "cell_type": "code",
   "execution_count": 5,
   "metadata": {},
   "outputs": [],
   "source": [
    "# ---① 연산에 사용할 배열 생성\n",
    "a = np.uint8([[200, 50]]) \n",
    "b = np.uint8([[100, 100]])"
   ]
  },
  {
   "cell_type": "code",
   "execution_count": 6,
   "metadata": {},
   "outputs": [],
   "source": [
    "#---② NumPy 배열 직접 연산 - 사칙연산 \n",
    "add1 = a + b\n",
    "sub1 = a - b\n",
    "mult1 = a * 2\n",
    "div1 = a / 3"
   ]
  },
  {
   "cell_type": "code",
   "execution_count": 7,
   "metadata": {},
   "outputs": [],
   "source": [
    "# ---③ OpenCV API를 이용한 연산\n",
    "add2 = cv2.add(a, b)\n",
    "sub2 = cv2.subtract(a, b)\n",
    "mult2 = cv2.multiply(a , 2)\n",
    "div2 = cv2.divide(a, 3)"
   ]
  },
  {
   "cell_type": "code",
   "execution_count": 8,
   "metadata": {},
   "outputs": [
    {
     "name": "stdout",
     "output_type": "stream",
     "text": [
      "[[ 44 150]] [[255 150]]\n",
      "[[100 206]] [[100   0]]\n",
      "[[144 100]] [[255 100]]\n",
      "[[66.66666667 16.66666667]] [[67 17]]\n"
     ]
    }
   ],
   "source": [
    "#---④ 각 연산 결과 출력\n",
    "print(add1, add2)\n",
    "print(sub1, sub2)\n",
    "print(mult1, mult2)\n",
    "print(div1, div2)"
   ]
  },
  {
   "cell_type": "code",
   "execution_count": 9,
   "metadata": {},
   "outputs": [
    {
     "name": "stdout",
     "output_type": "stream",
     "text": [
      "[[ 44 150]] [[255 150]]\n",
      "[[100 206]] [[100   0]]\n",
      "[[144 100]] [[255 100]]\n",
      "[[66.66666667 16.66666667]] [[67 17]]\n"
     ]
    }
   ],
   "source": [
    "import cv2\n",
    "import numpy as np\n",
    "\n",
    "# ---① 연산에 사용할 배열 생성\n",
    "# 두 개의 8비트 unsigned int 타입의 2차원 배열 생성\n",
    "a = np.uint8([[200, 50]]) \n",
    "b = np.uint8([[100, 100]])\n",
    "\n",
    "#---② NumPy 배열 직접 연산\n",
    "# NumPy를 이용한 배열 간의 직접 연산\n",
    "add1 = a + b  # 배열 a와 b를 더함\n",
    "sub1 = a - b  # 배열 a에서 b를 뺌\n",
    "mult1 = a * 2  # 배열 a에 2를 곱함\n",
    "div1 = a / 3  # 배열 a를 3으로 나눔\n",
    "\n",
    "# ---③ OpenCV API를 이용한 연산\n",
    "# OpenCV의 함수를 이용한 배열 연산\n",
    "add2 = cv2.add(a, b)  # OpenCV add 함수를 이용해 배열 a와 b를 더함\n",
    "sub2 = cv2.subtract(a, b)  # OpenCV subtract 함수를 이용해 배열 a에서 b를 뺌\n",
    "mult2 = cv2.multiply(a , 2)  # OpenCV multiply 함수를 이용해 배열 a에 2를 곱함\n",
    "div2 = cv2.divide(a, 3)  # OpenCV divide 함수를 이용해 배열 a를 3으로 나눔\n",
    "\n",
    "#---④ 각 연산 결과 출력\n",
    "# NumPy와 OpenCV 함수의 연산 결과를 출력\n",
    "print(add1, add2)\n",
    "print(sub1, sub2)\n",
    "print(mult1, mult2)\n",
    "print(div1, div2)\n"
   ]
  },
  {
   "cell_type": "code",
   "execution_count": null,
   "metadata": {},
   "outputs": [],
   "source": []
  }
 ],
 "metadata": {
  "kernelspec": {
   "display_name": "cv",
   "language": "python",
   "name": "python3"
  },
  "language_info": {
   "codemirror_mode": {
    "name": "ipython",
    "version": 3
   },
   "file_extension": ".py",
   "mimetype": "text/x-python",
   "name": "python",
   "nbconvert_exporter": "python",
   "pygments_lexer": "ipython3",
   "version": "3.9.16"
  }
 },
 "nbformat": 4,
 "nbformat_minor": 2
}
