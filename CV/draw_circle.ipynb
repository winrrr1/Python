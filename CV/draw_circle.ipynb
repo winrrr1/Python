{
 "cells": [
  {
   "cell_type": "code",
   "execution_count": 3,
   "metadata": {},
   "outputs": [],
   "source": [
    "import cv2\n",
    "\n",
    "img = cv2.imread('../img/blank_500.jpg')\n",
    "\n",
    "# 원점(150,150), 반지름 100 ---①\n",
    "cv2.circle(img, (150, 150), 100, (255,0,0))     \n",
    "# 원점(300,150), 반지름 70 ---②\n",
    "cv2.circle(img, (300, 150), 70, (0,255,0), 5)   \n",
    "# 원점(400,150), 반지름 50, 채우기 ---③\n",
    "cv2.circle(img, (400, 150), 50, (0,0,255), -1)  \n",
    "\n",
    "# 원점(50,300), 반지름(50), 회전 0, 0도 부터 360도 그리기 ---④\n",
    "cv2.ellipse(img, (50, 300), (50, 50), 0, 0, 360, (0,0,255))    \n",
    "# 원점(150, 300), 아래 반원 그리기 ---⑤\n",
    "cv2.ellipse(img, (150, 300), (50, 50), 0, 0, 180, (255,0,0))    \n",
    "#원점(200, 300), 윗 반원 그리기 ---⑥\n",
    "cv2.ellipse(img, (200, 300), (50, 50), 0, 181, 360, (0,0,255))    \n",
    "\n",
    "# 원점(325, 300), 반지름(75,50) 납작한 타원 그리기 ---⑦\n",
    "cv2.ellipse(img, (325, 300), (75, 50), 0, 0, 360, (0,255,0))    \n",
    "# 원점(450,300), 반지름(50,75) 홀쭉한 타원 그리기 ---⑧\n",
    "cv2.ellipse(img, (450, 300), (50, 75), 0, 0, 360, (255,0,255))    \n",
    "\n",
    "# 원점(50, 425), 반지름(50,75), 회전 15도 ---⑨\n",
    "cv2.ellipse(img, (50, 425), (50, 75), 15, 0, 360, (0,0,0))    \n",
    "# 원점(200,425), 반지름(50,75), 회전 45도 ---⑩\n",
    "cv2.ellipse(img, (200, 425), (50, 75), 45, 0, 360, (0,0,0))    \n",
    "\n",
    "# 원점(350,425), 홀쭉한 타원 45도 회전 후 아랫 반원 그리기 ---⑪\n",
    "cv2.ellipse(img, (350, 425), (50, 75), 45, 0, 180, (0,0,255))    \n",
    "# 원점(400,425), 홀쭉한 타원 45도 회전 후 윗 반원 그리기 ---⑫\n",
    "cv2.ellipse(img, (400, 425), (50, 75), 45, 181, 360, (255,0,0))    \n",
    "\n",
    "cv2.imshow('circle', img)\n",
    "cv2.waitKey(0)\n",
    "cv2.destroyAllWindows()"
   ]
  },
  {
   "cell_type": "code",
   "execution_count": null,
   "metadata": {},
   "outputs": [],
   "source": []
  }
 ],
 "metadata": {
  "kernelspec": {
   "display_name": "cv",
   "language": "python",
   "name": "python3"
  },
  "language_info": {
   "codemirror_mode": {
    "name": "ipython",
    "version": 3
   },
   "file_extension": ".py",
   "mimetype": "text/x-python",
   "name": "python",
   "nbconvert_exporter": "python",
   "pygments_lexer": "ipython3",
   "version": "3.9.16"
  }
 },
 "nbformat": 4,
 "nbformat_minor": 2
}
