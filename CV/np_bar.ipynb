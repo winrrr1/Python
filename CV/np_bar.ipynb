{
 "cells": [
  {
   "cell_type": "code",
   "execution_count": 15,
   "metadata": {},
   "outputs": [],
   "source": [
    "import cv2\n",
    "import numpy as np\n",
    "\n",
    "# 300x300 크기의 검정색 이미지 생성 (3채널 컬러 이미지)\n",
    "img = np.zeros((300, 300, 3), dtype=np.uint8)\n",
    "\n",
    "# 이미지의 상단 50픽셀을 빨간색으로 채우기\n",
    "img[:50, :] = [255, 0, 0]  # BGR 포맷으로 빨간색\n",
    "\n",
    "# 상단 50픽셀 영역의 왼쪽 50x50 픽셀을 어두운 빨간색으로 채우기\n",
    "img[:50, :50] = [200, 0, 0]  # BGR 포맷으로 어두운 빨간색\n",
    "\n",
    "# 상단 50픽셀 영역의 51~100픽셀 열을 더 어두운 빨간색으로 채우기\n",
    "img[:50, 51:100] = [150, 0, 0]  # BGR 포맷으로 더 어두운 빨간색\n",
    "\n",
    "# 상단 50픽셀 영역의 101~150픽셀 열을 더욱 어두운 빨간색으로 채우기\n",
    "img[:50, 101:150] = [100, 0, 0]  # BGR 포맷으로 더욱 어두운 빨간색\n",
    "\n",
    "# 상단 50픽셀 영역의 151~200픽셀 열을 가장 어두운 빨간색으로 채우기\n",
    "img[:50, 151:200] = [50, 0, 0]  # BGR 포맷으로 가장 어두운 빨간색\n",
    "\n",
    "# 이미지 창에 표시\n",
    "cv2.imshow('BGR', img)\n",
    "\n",
    "# ESC 키를 누르면 창 닫기\n",
    "if cv2.waitKey(0) & 0xFF == 27:\n",
    "    cv2.destroyAllWindows()\n",
    "\n"
   ]
  },
  {
   "cell_type": "code",
   "execution_count": 16,
   "metadata": {},
   "outputs": [],
   "source": [
    "import cv2\n",
    "import numpy as np\n",
    "\n",
    "# 300x300 크기의 검정색 이미지 생성 (3채널 컬러 이미지)\n",
    "img = np.zeros((300, 300, 3), dtype=np.uint8)\n",
    "\n",
    "# 각 줄의 색상을 정의 (BGR 포맷)\n",
    "colors = [\n",
    "    [255, 0, 0],    # 빨간색\n",
    "    [0, 255, 0],    # 초록색\n",
    "    [0, 0, 255],    # 파란색\n",
    "    [255, 255, 0],  # 노란색\n",
    "    [0, 255, 255]   # 청록색\n",
    "]\n",
    "\n",
    "# 각 줄을 색상으로 채우기\n",
    "height_per_color = 60  # 각 색상 줄의 높이 (300px를 5개 색상으로 나누기)\n",
    "for i, color in enumerate(colors):\n",
    "    img[i * height_per_color:(i + 1) * height_per_color, :] = color\n",
    "\n",
    "# 이미지 창에 표시\n",
    "cv2.imshow('BGR', img)\n",
    "\n",
    "# ESC 키를 누르면 창 닫기\n",
    "while True:\n",
    "    if cv2.waitKey(1) & 0xFF == 27:  # ESC 키를 눌러 종료\n",
    "        break\n",
    "\n",
    "cv2.destroyAllWindows()\n"
   ]
  },
  {
   "cell_type": "code",
   "execution_count": null,
   "metadata": {},
   "outputs": [],
   "source": []
  }
 ],
 "metadata": {
  "kernelspec": {
   "display_name": "cv",
   "language": "python",
   "name": "python3"
  },
  "language_info": {
   "codemirror_mode": {
    "name": "ipython",
    "version": 3
   },
   "file_extension": ".py",
   "mimetype": "text/x-python",
   "name": "python",
   "nbconvert_exporter": "python",
   "pygments_lexer": "ipython3",
   "version": "3.9.16"
  }
 },
 "nbformat": 4,
 "nbformat_minor": 2
}
