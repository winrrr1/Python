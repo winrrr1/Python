{
 "cells": [
  {
   "cell_type": "code",
   "execution_count": 2,
   "metadata": {},
   "outputs": [
    {
     "name": "stdout",
     "output_type": "stream",
     "text": [
      "127.0\n"
     ]
    },
    {
     "data": {
      "image/png": "[encoded data removed]",
      "text/plain": [
       "<Figure size 640x480 with 3 Axes>"
      ]
     },
     "metadata": {},
     "output_type": "display_data"
    }
   ],
   "source": [
    "import cv2\n",
    "import numpy as np\n",
    "import matplotlib.pylab as plt\n",
    "\n",
    "img = cv2.imread('../img/gray_gradient.jpg', cv2.IMREAD_GRAYSCALE) #이미지를 그레이 스케일로 읽기\n",
    "\n",
    "# --- ① NumPy API로 바이너리 이미지 만들기\n",
    "thresh_np = np.zeros_like(img)   # 원본과 동일한 크기의 0으로 채워진 이미지\n",
    "thresh_np[ img > 127] = 255      # 127 보다 큰 값만 255로 변경\n",
    "\n",
    "# ---② OpenCV API로 바이너리 이미지 만들기\n",
    "ret, thresh_cv = cv2.threshold(img, 127, 255, cv2.THRESH_BINARY) \n",
    "print(ret)  # 127.0, 바이너리 이미지에 사용된 문턱 값 반환\n",
    "\n",
    "# ---③ 원본과 결과물을 matplotlib으로 출력\n",
    "imgs = {'Original': img, 'NumPy API':thresh_np, 'cv2.threshold': thresh_cv}\n",
    "for i , (key, value) in enumerate(imgs.items()):\n",
    "    plt.subplot(1, 3, i+1)\n",
    "    plt.title(key)\n",
    "    plt.imshow(value, cmap='gray')\n",
    "    plt.xticks([]); plt.yticks([])\n",
    "\n",
    "plt.show()\n",
    "\n"
   ]
  },
  {
   "cell_type": "code",
   "execution_count": null,
   "metadata": {},
   "outputs": [],
   "source": []
  }
 ],
 "metadata": {
  "kernelspec": {
   "display_name": "cv",
   "language": "python",
   "name": "python3"
  },
  "language_info": {
   "codemirror_mode": {
    "name": "ipython",
    "version": 3
   },
   "file_extension": ".py",
   "mimetype": "text/x-python",
   "name": "python",
   "nbconvert_exporter": "python",
   "pygments_lexer": "ipython3",
   "version": "3.9.16"
  }
 },
 "nbformat": 4,
 "nbformat_minor": 2
}
