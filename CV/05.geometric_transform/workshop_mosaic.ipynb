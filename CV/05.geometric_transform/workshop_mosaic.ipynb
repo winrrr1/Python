{
 "cells": [
  {
   "cell_type": "code",
   "execution_count": 1,
   "metadata": {},
   "outputs": [],
   "source": [
    "import cv2\n",
    "\n",
    "rate = 15               # 모자이크에 사용할 축소 비율 (1/rate)\n",
    "win_title = 'mosaic'    # 창 제목\n",
    "img = cv2.imread('../img/taekwonv1.jpg')    # 이미지 읽기\n",
    "\n",
    "while True:\n",
    "    x,y,w,h = cv2.selectROI(win_title, img, False) # 관심영역 선택\n",
    "    if w and h:\n",
    "        roi = img[y:y+h, x:x+w]   # 관심영역 지정\n",
    "        roi = cv2.resize(roi, (w//rate, h//rate)) # 1/rate 비율로 축소\n",
    "        # 원래 크기로 확대\n",
    "        roi = cv2.resize(roi, (w,h), interpolation=cv2.INTER_AREA)  \n",
    "        img[y:y+h, x:x+w] = roi   # 원본 이미지에 적용\n",
    "        cv2.imshow(win_title, img)\n",
    "    else:\n",
    "        break\n",
    "cv2.destroyAllWindows()"
   ]
  },
  {
   "cell_type": "code",
   "execution_count": 7,
   "metadata": {},
   "outputs": [],
   "source": [
    "import cv2\n",
    "\n",
    "rate = 15               # 모자이크에 사용할 축소 비율 (1/rate)\n",
    "win_title = 'mosaic'    # 창 제목\n",
    "img = cv2.imread('../img/cho.jpg')    # 이미지 읽기\n",
    "\n",
    "while True:\n",
    "    # 사용자가 관심 영역을 선택하도록 요청\n",
    "    x, y, w, h = cv2.selectROI(win_title, img, False) # 관심영역 선택\n",
    "    \n",
    "    if w and h:\n",
    "        # 선택한 영역의 관심 영역을 추출\n",
    "        roi = img[y:y+h, x:x+w]   # 관심영역 지정\n",
    "        \n",
    "        # 관심 영역을 축소\n",
    "        roi = cv2.resize(roi, (w//rate, h//rate)) # 1/rate 비율로 축소\n",
    "        \n",
    "        # 축소된 관심 영역을 원래 크기로 확대\n",
    "        roi = cv2.resize(roi, (w, h), interpolation=cv2.INTER_AREA)  \n",
    "        \n",
    "        # 원본 이미지에 모자이크 효과 적용\n",
    "        img[y:y+h, x:x+w] = roi   # 원본 이미지에 적용\n",
    "        \n",
    "        # 모자이크 효과가 적용된 이미지를 화면에 표시\n",
    "        cv2.imshow(win_title, img)\n",
    "    else:\n",
    "        # 사용자가 'ESC' 키를 누르거나 아무 영역도 선택하지 않은 경우 루프 종료\n",
    "        break\n",
    "\n",
    "# 모자이크 처리된 이미지를 저장\n",
    "cv2.imwrite('cho-mosaic.jpg', img)  # 'mosaic_output.jpg'로 저장\n",
    "\n",
    "# 모든 윈도우 닫기\n",
    "cv2.destroyAllWindows()\n"
   ]
  },
  {
   "cell_type": "code",
   "execution_count": null,
   "metadata": {},
   "outputs": [],
   "source": []
  }
 ],
 "metadata": {
  "kernelspec": {
   "display_name": "cv",
   "language": "python",
   "name": "python3"
  },
  "language_info": {
   "codemirror_mode": {
    "name": "ipython",
    "version": 3
   },
   "file_extension": ".py",
   "mimetype": "text/x-python",
   "name": "python",
   "nbconvert_exporter": "python",
   "pygments_lexer": "ipython3",
   "version": "3.9.16"
  }
 },
 "nbformat": 4,
 "nbformat_minor": 2
}
