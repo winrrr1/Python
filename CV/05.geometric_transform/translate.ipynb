{
 "cells": [
  {
   "cell_type": "code",
   "execution_count": 4,
   "metadata": {},
   "outputs": [],
   "source": [
    "import cv2\n",
    "import numpy as np\n",
    "\n",
    "img = cv2.imread('../img/fish.jpg')\n",
    "rows,cols = img.shape[0:2]  # 영상의 크기\n",
    "\n",
    "dx, dy = 100, 50            # 이동할 픽셀 거리\n",
    "\n",
    "# ---① 변환 행렬 생성 \n",
    "mtrx = np.float32([[1, 0, dx],\n",
    "                   [0, 1, dy]])  \n",
    "# ---② 단순 이동\n",
    "dst = cv2.warpAffine(img, mtrx, (cols+dx, rows+dy))   \n",
    "\n",
    "# ---③ 탈락된 외곽 픽셀을 파랑색으로 보정\n",
    "dst2 = cv2.warpAffine(img, mtrx, (cols+dx, rows+dy), None, \\\n",
    "                        cv2.INTER_LINEAR, cv2.BORDER_CONSTANT, (255,0,0) )\n",
    "\n",
    "# ---④ 탈락된 외곽 픽셀을 원본을 반사 시켜서 보정\n",
    "dst3 = cv2.warpAffine(img, mtrx, (cols+dx, rows+dy), None, \\\n",
    "                                cv2.INTER_LINEAR, cv2.BORDER_REFLECT)\n",
    "\n",
    "cv2.imshow('original', img)\n",
    "cv2.imshow('trans',dst)\n",
    "cv2.imshow('BORDER_CONSTATNT', dst2)\n",
    "cv2.imshow('BORDER_FEFLECT', dst3)\n",
    "cv2.waitKey(0)\n",
    "cv2.destroyAllWindows()"
   ]
  },
  {
   "cell_type": "code",
   "execution_count": 5,
   "metadata": {},
   "outputs": [],
   "source": [
    "import cv2\n",
    "import numpy as np\n",
    "\n",
    "img = cv2.imread('../img/cat1.jpg')\n",
    "rows,cols = img.shape[0:2]  # 영상의 크기\n",
    "\n",
    "dx, dy = 100, 50            # 이동할 픽셀 거리\n",
    "\n",
    "# ---① 변환 행렬 생성 \n",
    "mtrx = np.float32([[1, 0, dx],\n",
    "                   [0, 1, dy]])  \n",
    "# ---② 단순 이동\n",
    "dst = cv2.warpAffine(img, mtrx, (cols+dx, rows+dy))   \n",
    "\n",
    "# ---③ 탈락된 외곽 픽셀을 파랑색으로 보정\n",
    "dst2 = cv2.warpAffine(img, mtrx, (cols+dx, rows+dy), None, \\\n",
    "                        cv2.INTER_LINEAR, cv2.BORDER_CONSTANT, (255,0,0) )\n",
    "\n",
    "# ---④ 탈락된 외곽 픽셀을 원본을 반사 시켜서 보정\n",
    "dst3 = cv2.warpAffine(img, mtrx, (cols+dx, rows+dy), None, \\\n",
    "                                cv2.INTER_LINEAR, cv2.BORDER_REFLECT)\n",
    "\n",
    "cv2.imshow('original', img)\n",
    "cv2.imshow('trans',dst)\n",
    "cv2.imshow('BORDER_CONSTATNT', dst2)\n",
    "cv2.imshow('BORDER_FEFLECT', dst3)\n",
    "cv2.waitKey(0)\n",
    "cv2.destroyAllWindows()"
   ]
  },
  {
   "cell_type": "code",
   "execution_count": null,
   "metadata": {},
   "outputs": [],
   "source": []
  }
 ],
 "metadata": {
  "kernelspec": {
   "display_name": "cv",
   "language": "python",
   "name": "python3"
  },
  "language_info": {
   "codemirror_mode": {
    "name": "ipython",
    "version": 3
   },
   "file_extension": ".py",
   "mimetype": "text/x-python",
   "name": "python",
   "nbconvert_exporter": "python",
   "pygments_lexer": "ipython3",
   "version": "3.9.16"
  }
 },
 "nbformat": 4,
 "nbformat_minor": 2
}
