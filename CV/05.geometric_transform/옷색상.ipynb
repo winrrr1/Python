{
 "cells": [
  {
   "cell_type": "code",
   "execution_count": 2,
   "metadata": {},
   "outputs": [],
   "source": [
    "import cv2\n",
    "import numpy as np\n",
    "\n",
    "# 이미지 읽기\n",
    "img = cv2.imread('../img/m.jpg')\n",
    "\n",
    "# 이미지를 HSV 색상 공간으로 변환\n",
    "hsv = cv2.cvtColor(img, cv2.COLOR_BGR2HSV)\n",
    "\n",
    "# 변환할 색상의 범위 정의 (예: 파란색 옷을 빨간색으로 변경)\n",
    "# 이 범위는 필요에 따라 조정해야 합니다.\n",
    "lower_blue = np.array([90, 50, 50])\n",
    "upper_blue = np.array([130, 255, 255])\n",
    "\n",
    "# 색상 범위에 해당하는 마스크 생성\n",
    "mask = cv2.inRange(hsv, lower_blue, upper_blue)\n",
    "\n",
    "# 변경할 색상 설정 (예: 빨간색)\n",
    "# HSV에서 빨간색은 약 [0, 255, 255]\n",
    "new_color = np.array([0, 255, 255])  # 빨간색\n",
    "\n",
    "# 마스크를 이용하여 원본 이미지의 해당 색상을 새로운 색상으로 변경\n",
    "hsv[mask > 0] = new_color\n",
    "\n",
    "# HSV 이미지를 다시 BGR로 변환\n",
    "result_img = cv2.cvtColor(hsv, cv2.COLOR_HSV2BGR)\n",
    "\n",
    "# 결과 이미지 출력\n",
    "cv2.imshow('Original Image', img)\n",
    "cv2.imshow('Color Transformed Image', result_img)\n",
    "\n",
    "# 키 입력을 기다리고 모든 창 닫기\n",
    "cv2.waitKey(0)\n",
    "cv2.destroyAllWindows()\n"
   ]
  },
  {
   "cell_type": "code",
   "execution_count": null,
   "metadata": {},
   "outputs": [],
   "source": []
  }
 ],
 "metadata": {
  "kernelspec": {
   "display_name": "cv",
   "language": "python",
   "name": "python3"
  },
  "language_info": {
   "codemirror_mode": {
    "name": "ipython",
    "version": 3
   },
   "file_extension": ".py",
   "mimetype": "text/x-python",
   "name": "python",
   "nbconvert_exporter": "python",
   "pygments_lexer": "ipython3",
   "version": "3.9.16"
  }
 },
 "nbformat": 4,
 "nbformat_minor": 2
}
