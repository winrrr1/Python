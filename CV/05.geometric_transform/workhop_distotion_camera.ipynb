{
 "cells": [
  {
   "cell_type": "code",
   "execution_count": 2,
   "metadata": {},
   "outputs": [
    {
     "name": "stdout",
     "output_type": "stream",
     "text": [
      "(240, 320) (59868,)\n"
     ]
    }
   ],
   "source": [
    "import cv2\n",
    "import numpy as np\n",
    "\n",
    "# 웹캠 캡처 객체 생성\n",
    "cap = cv2.VideoCapture(0)\n",
    "# 웹캠의 해상도를 320x240으로 설정\n",
    "cap.set(cv2.CAP_PROP_FRAME_WIDTH, 320)\n",
    "cap.set(cv2.CAP_PROP_FRAME_HEIGHT, 240)\n",
    "rows, cols = 240, 320\n",
    "# 이미지의 좌표를 생성\n",
    "map_y, map_x = np.indices((rows, cols), dtype=np.float32)\n",
    "\n",
    "# 거울 왜곡 효과\n",
    "map_mirrorh_x, map_mirrorh_y = map_x.copy(), map_y.copy() \n",
    "map_mirrorv_x, map_mirrorv_y = map_x.copy(), map_y.copy()    \n",
    "\n",
    "# 좌우 대칭 거울 좌표 연산\n",
    "map_mirrorh_x[:, cols//2:] = cols - map_mirrorh_x[:, cols//2:] - 1\n",
    "\n",
    "# 상하 대칭 거울 좌표 연산\n",
    "map_mirrorv_y[rows//2:, :] = rows - map_mirrorv_y[rows//2:, :] - 1\n",
    "\n",
    "# 물결 효과\n",
    "map_wave_x, map_wave_y = map_x.copy(), map_y.copy()\n",
    "# 물결 효과 적용\n",
    "map_wave_x = map_wave_x + 15 * np.sin(map_y / 20)\n",
    "map_wave_y = map_wave_y + 15 * np.sin(map_x / 20)\n",
    "\n",
    "# 렌즈 효과\n",
    "## 렌즈 효과, 중심점 이동\n",
    "map_lenz_x = 2 * map_x / (cols - 1) - 1\n",
    "map_lenz_y = 2 * map_y / (rows - 1) - 1\n",
    "## 렌즈 효과, 극좌표 변환\n",
    "r, theta = cv2.cartToPolar(map_lenz_x, map_lenz_y)\n",
    "r_convex = r.copy()\n",
    "r_concave = r\n",
    "## 볼록 렌즈 효과 매핑 좌표 연산\n",
    "r_convex[r < 1] = r_convex[r < 1] ** 2  \n",
    "print(r.shape, r_convex[r < 1].shape)\n",
    "## 오목 렌즈 효과 매핑 좌표 연산\n",
    "r_concave[r < 1] = r_concave[r < 1] ** 0.5\n",
    "## 렌즈 효과, 직교 좌표 복원\n",
    "map_convex_x, map_convex_y = cv2.polarToCart(r_convex, theta)\n",
    "map_concave_x, map_concave_y = cv2.polarToCart(r_concave, theta)\n",
    "## 렌즈 효과, 좌상단 좌표 복원\n",
    "map_convex_x = ((map_convex_x + 1) * cols - 1) / 2\n",
    "map_convex_y = ((map_convex_y + 1) * rows - 1) / 2\n",
    "map_concave_x = ((map_concave_x + 1) * cols - 1) / 2\n",
    "map_concave_y = ((map_concave_y + 1) * rows - 1) / 2\n",
    "\n",
    "while True:\n",
    "    # 웹캠에서 프레임 읽기\n",
    "    ret, frame = cap.read()\n",
    "    # 준비한 매핑 좌표로 영상 효과 적용\n",
    "    mirrorh = cv2.remap(frame, map_mirrorh_x, map_mirrorh_y, cv2.INTER_LINEAR)\n",
    "    mirrorv = cv2.remap(frame, map_mirrorv_x, map_mirrorv_y, cv2.INTER_LINEAR)\n",
    "    wave = cv2.remap(frame, map_wave_x, map_wave_y, cv2.INTER_LINEAR, None, cv2.BORDER_REPLICATE)\n",
    "    convex = cv2.remap(frame, map_convex_x, map_convex_y, cv2.INTER_LINEAR)\n",
    "    concave = cv2.remap(frame, map_concave_x, map_concave_y, cv2.INTER_LINEAR)\n",
    "    # 영상 합치기\n",
    "    r1 = np.hstack((frame, mirrorh, mirrorv))\n",
    "    r2 = np.hstack((wave, convex, concave))\n",
    "    merged = np.vstack((r1, r2))\n",
    "\n",
    "    # 결과 출력\n",
    "    cv2.imshow('distorted', merged)\n",
    "    # 'ESC' 키를 누르면 루프 종료\n",
    "    if cv2.waitKey(1) & 0xFF == 27:\n",
    "        break\n",
    "\n",
    "# 웹캠과 윈도우 자원 해제\n",
    "cap.release()\n",
    "cv2.destroyAllWindows()\n"
   ]
  },
  {
   "cell_type": "code",
   "execution_count": null,
   "metadata": {},
   "outputs": [],
   "source": []
  }
 ],
 "metadata": {
  "kernelspec": {
   "display_name": "cv",
   "language": "python",
   "name": "python3"
  },
  "language_info": {
   "codemirror_mode": {
    "name": "ipython",
    "version": 3
   },
   "file_extension": ".py",
   "mimetype": "text/x-python",
   "name": "python",
   "nbconvert_exporter": "python",
   "pygments_lexer": "ipython3",
   "version": "3.9.16"
  }
 },
 "nbformat": 4,
 "nbformat_minor": 2
}
