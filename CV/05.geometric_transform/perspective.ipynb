{
 "cells": [
  {
   "cell_type": "code",
   "execution_count": 6,
   "metadata": {},
   "outputs": [],
   "source": [
    "import cv2\n",
    "import numpy as np\n",
    "\n",
    "file_name = \"../img/cho.jpg\"\n",
    "img = cv2.imread(file_name)\n",
    "rows, cols = img.shape[:2]\n",
    "\n",
    "#---① 원근 변환 전 후 4개 좌표\n",
    "pts1 = np.float32([[0,0], [0,rows], [cols, 0], [cols,rows]])\n",
    "pts2 = np.float32([[100,50], [10,rows-50], [cols-100, 50], [cols-10,rows-50]])\n",
    "\n",
    "#---② 변환 전 좌표를 원본 이미지에 표시\n",
    "cv2.circle(img, (0,0), 10, (255,0,0), -1)\n",
    "cv2.circle(img, (0,rows), 10, (0,255,0), -1)\n",
    "cv2.circle(img, (cols,0), 10, (0,0,255), -1)\n",
    "cv2.circle(img, (cols,rows), 10, (0,255,255), -1)\n",
    "\n",
    "#---③ 원근 변환 행렬 계산\n",
    "mtrx = cv2.getPerspectiveTransform(pts1, pts2)\n",
    "#---④ 원근 변환 적용\n",
    "dst = cv2.warpPerspective(img, mtrx, (cols, rows))\n",
    "\n",
    "cv2.imshow(\"origin\", img)\n",
    "cv2.imshow('perspective', dst)\n",
    "cv2.waitKey(0)\n",
    "cv2.destroyAllWindows()"
   ]
  },
  {
   "cell_type": "code",
   "execution_count": null,
   "metadata": {},
   "outputs": [],
   "source": []
  }
 ],
 "metadata": {
  "kernelspec": {
   "display_name": "cv",
   "language": "python",
   "name": "python3"
  },
  "language_info": {
   "codemirror_mode": {
    "name": "ipython",
    "version": 3
   },
   "file_extension": ".py",
   "mimetype": "text/x-python",
   "name": "python",
   "nbconvert_exporter": "python",
   "pygments_lexer": "ipython3",
   "version": "3.9.16"
  }
 },
 "nbformat": 4,
 "nbformat_minor": 2
}
