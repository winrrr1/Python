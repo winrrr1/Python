{
 "cells": [
  {
   "cell_type": "code",
   "execution_count": 2,
   "metadata": {},
   "outputs": [],
   "source": [
    "import cv2\n",
    "import numpy as np\n",
    "\n",
    "img = cv2.imread('../img/fish.jpg')\n",
    "rows,cols = img.shape[0:2]\n",
    "\n",
    "# ---① 라디안 각도 계산(60진법을 호도법으로 변경)\n",
    "d45 = 45.0 * np.pi / 180    # 45도\n",
    "d90 = 90.0 * np.pi / 180    # 90도\n",
    "\n",
    "# ---② 회전을 위한 변환 행렬 생성\n",
    "m45 = np.float32( [[ np.cos(d45), -1* np.sin(d45), rows//2],\n",
    "                    [np.sin(d45), np.cos(d45), -1*cols//4]])\n",
    "m90 = np.float32( [[ np.cos(d90), -1* np.sin(d90), rows],\n",
    "                    [np.sin(d90), np.cos(d90), 0]])\n",
    "\n",
    "# ---③ 회전 변환 행렬 적용\n",
    "r45 = cv2.warpAffine(img,m45,(cols,rows))\n",
    "r90 = cv2.warpAffine(img,m90,(rows,cols))\n",
    "\n",
    "# ---④ 결과 출력\n",
    "cv2.imshow(\"origin\", img)\n",
    "cv2.imshow(\"45\", r45)\n",
    "cv2.imshow(\"90\", r90)\n",
    "cv2.waitKey(0)\n",
    "cv2.destroyAllWindows()"
   ]
  },
  {
   "cell_type": "code",
   "execution_count": 1,
   "metadata": {},
   "outputs": [],
   "source": [
    "# 확대해서 돌렸다. 원본이미지 있으나 아래쪽에 resized_img 로 확대해서 아래 r45, 90 , 70 에 적용시켰음.\n",
    "# 위의 원본코드와 비교 할것 "
   ]
  },
  {
   "cell_type": "code",
   "execution_count": 1,
   "metadata": {},
   "outputs": [],
   "source": [
    "import cv2\n",
    "import numpy as np\n",
    "\n",
    "# 이미지 읽기\n",
    "img = cv2.imread('../img/3.jpg')\n",
    "\n",
    "scale_factor = 1.5 # 3.5배 확대 비율\n",
    "\n",
    "# 이미지 크기 계산\n",
    "width = int(img.shape[1] * scale_factor) \n",
    "height = int(img.shape[0] * scale_factor)\n",
    "dim = (width, height)\n",
    "\n",
    "# 이미지 크기 조절 (확대)\n",
    "resized_img = cv2.resize(img, dim, interpolation=cv2.INTER_LINEAR)\n",
    "\n",
    "# 이미지의 행(row)과 열(col) 크기 가져오기\n",
    "rows, cols = resized_img.shape[0:2]\n",
    "\n",
    "# ---① 라디안 각도 계산 (60진법 각도를 라디안으로 변환)\n",
    "d45 = 45.0 * np.pi / 180    # 45도를 라디안으로 변환\n",
    "d90 = 90.0 * np.pi / 180    # 90도를 라디안으로 변환\n",
    "d70 = 70.0 * np.pi / 180\n",
    "\n",
    "# ---② 회전을 위한 변환 행렬 생성\n",
    "# 45도 회전 변환 행렬 (이미지 중심을 기준으로 회전)\n",
    "m45 = np.float32([[np.cos(d45), -1 * np.sin(d45), rows // 2],  # X축 변환\n",
    "                  [np.sin(d45), np.cos(d45), -1 * cols // 4]]) # Y축 변환\n",
    "# 90도 회전 변환 행렬 (이미지 중심을 기준으로 회전)\n",
    "m90 = np.float32([[np.cos(d90), -1 * np.sin(d90), rows],       # X축 변환\n",
    "                  [np.sin(d90), np.cos(d90), 0]])              # Y축 변환\n",
    "\n",
    "# 70도 회전 변현 행렬 추가 \n",
    "m70 = np.float32([[np.cos(d70), -np.sin(d70), (cols - 1) / 2 - (cols - 1) / 2 * np.cos(d70) + (rows - 1) / 2 * np.sin(d70)],\n",
    "                   [np.sin(d70), np.cos(d70), (rows - 1) / 2 - (cols - 1) / 2 * np.sin(d70) - (rows - 1) / 2 * np.cos(d70)]])\n",
    "\n",
    "# ---③ 회전 변환 행렬 적용\n",
    "r45 = cv2.warpAffine(resized_img, m45, (cols, rows))  # 45도 회전 적용\n",
    "r90 = cv2.warpAffine(resized_img, m90, (rows, cols))  # 90도 회전 적용\n",
    "r70 = cv2.warpAffine(resized_img, m70, (cols, rows))  # 70도 회전 적용\n",
    "\n",
    "# ---④ 결과 출력\n",
    "cv2.imshow(\"origin\", img)  # 원본 이미지 출력\n",
    "cv2.imshow(\"Resized Image\", resized_img) # 확대된 이미지\n",
    "cv2.imshow(\"45\", r45)      # 45도 회전된 이미지 출력\n",
    "cv2.imshow(\"90\", r90)      # 90도 회전된 이미지 출력\n",
    "cv2.imshow(\"70\", r70)      # 70도 회전 이미지\n",
    "cv2.waitKey(0)             # 키 입력 대기\n",
    "cv2.destroyAllWindows()    # 모든 창 닫기\n"
   ]
  },
  {
   "cell_type": "code",
   "execution_count": null,
   "metadata": {},
   "outputs": [],
   "source": []
  }
 ],
 "metadata": {
  "kernelspec": {
   "display_name": "cv",
   "language": "python",
   "name": "python3"
  },
  "language_info": {
   "codemirror_mode": {
    "name": "ipython",
    "version": 3
   },
   "file_extension": ".py",
   "mimetype": "text/x-python",
   "name": "python",
   "nbconvert_exporter": "python",
   "pygments_lexer": "ipython3",
   "version": "3.9.16"
  }
 },
 "nbformat": 4,
 "nbformat_minor": 2
}
