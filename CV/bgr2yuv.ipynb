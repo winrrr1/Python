{
 "cells": [
  {
   "cell_type": "code",
   "execution_count": 2,
   "metadata": {},
   "outputs": [
    {
     "name": "stdout",
     "output_type": "stream",
     "text": [
      "dark: [[[  0 128 128]]]\n",
      "middle: [[[127 128 128]]]\n",
      "bright [[[255 128 128]]]\n"
     ]
    }
   ],
   "source": [
    "import cv2\n",
    "import numpy as np\n",
    "\n",
    "#---① BGR 컬러 스페이스로 3가지 밝기의 픽셀 생성\n",
    "dark = np.array([[[0,0,0]]], dtype=np.uint8)        # 3 채널 모두 0인 가장 어두운 픽셀\n",
    "middle = np.array([[[127,127,127]]], dtype=np.uint8) # 3 채널 모두 127인 중간 밝기 픽셀\n",
    "bright = np.array([[[255,255,255]]], dtype=np.uint8) # 3 채널 모두 255인 가장 밝은 픽셀\n",
    "\n",
    "#---② BGR 컬러 스페이스를 YUV 컬러 스페이스로 변환\n",
    "dark_yuv = cv2.cvtColor(dark, cv2.COLOR_BGR2YUV)\n",
    "middle_yuv = cv2.cvtColor(middle, cv2.COLOR_BGR2YUV)\n",
    "bright_yuv = cv2.cvtColor(bright, cv2.COLOR_BGR2YUV)\n",
    "\n",
    "#---③ YUV로 변환한 픽셀 출력\n",
    "print(\"dark:\",dark_yuv)\n",
    "print(\"middle:\", middle_yuv)\n",
    "print(\"bright\", bright_yuv)\n"
   ]
  },
  {
   "cell_type": "code",
   "execution_count": null,
   "metadata": {},
   "outputs": [],
   "source": []
  }
 ],
 "metadata": {
  "kernelspec": {
   "display_name": "cv",
   "language": "python",
   "name": "python3"
  },
  "language_info": {
   "codemirror_mode": {
    "name": "ipython",
    "version": 3
   },
   "file_extension": ".py",
   "mimetype": "text/x-python",
   "name": "python",
   "nbconvert_exporter": "python",
   "pygments_lexer": "ipython3",
   "version": "3.9.16"
  }
 },
 "nbformat": 4,
 "nbformat_minor": 2
}
