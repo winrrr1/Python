{
 "cells": [
  {
   "cell_type": "code",
   "execution_count": 1,
   "metadata": {},
   "outputs": [],
   "source": [
    "import cv2\n",
    "import numpy as np\n",
    "\n",
    "alpha = 0.5 # 합성에 사용할 알파 값\n",
    "\n",
    "#---① 합성에 사용할 영상 읽기\n",
    "img1 = cv2.imread('../img/wing_wall.jpg')\n",
    "img2 = cv2.imread('../img/yate.jpg')\n",
    "# ---② NumPy 배열에 수식을 직접 연산해서 알파 블렌딩 적용\n",
    "blended = img1 * alpha + img2 * (1-alpha)\n",
    "blended = blended.astype(np.uint8) # 소수점 발생을 제거하기 위함\n",
    "cv2.imshow('blened', blended)\n",
    "\n",
    "cv2.waitKey(0)\n",
    "cv2.destroyAllWindows()"
   ]
  },
  {
   "cell_type": "code",
   "execution_count": 6,
   "metadata": {},
   "outputs": [],
   "source": [
    "import cv2\n",
    "import numpy as np\n",
    "\n",
    "alpha = 0.5  # 합성에 사용할 알파 값 설정 (0.0 ~ 1.0 사이의 값)\n",
    "\n",
    "#---① 합성에 사용할 영상 읽기\n",
    "# 두 개의 이미지를 읽어옴\n",
    "img1 = cv2.imread('../img/mountain.jpg')\n",
    "img2 = cv2.imread('../img/lion.jpg')\n",
    "\n",
    "# 이미지를 제대로 읽어왔는지 확인\n",
    "if img1 is None or img2 is None:\n",
    "    print(\"이미지 파일을 찾을 수 없습니다. 경로를 확인하세요.\")\n",
    "    exit()\n",
    "\n",
    "# ---② 두 이미지를 동일한 크기로 리사이즈\n",
    "img2 = cv2.resize(img2, (img1.shape[1], img1.shape[0]))  # img1의 크기에 맞춰 img2를 리사이즈\n",
    "\n",
    "# ---② NumPy 배열에 수식을 직접 연산해서 알파 블렌딩 적용\n",
    "# 첫 번째 이미지에 alpha 값을 곱하고, 두 번째 이미지에 (1-alpha) 값을 곱해 합성\n",
    "blended = img1 * alpha + img2 * (1 - alpha)\n",
    "blended = blended.astype(np.uint8)  # 연산 후 발생할 수 있는 소수점을 제거하고, 다시 8비트 정수형으로 변환\n",
    "cv2.imshow('img1 * alpha + img2 * (1-alpha)', blended)  # 합성된 이미지 출력\n",
    "\n",
    "# ---③ addWeighted() 함수로 알파 블렌딩 적용\n",
    "# OpenCV의 addWeighted 함수를 사용하여 알파 블렌딩 적용\n",
    "dst = cv2.addWeighted(img1, alpha, img2, (1 - alpha), 0) \n",
    "cv2.imshow('cv2.addWeighted', dst)  # 함수로 합성된 이미지 출력\n",
    "\n",
    "cv2.waitKey(0)  # 키 입력을 기다림\n",
    "cv2.destroyAllWindows()  # 모든 창을 닫음\n"
   ]
  },
  {
   "cell_type": "code",
   "execution_count": null,
   "metadata": {},
   "outputs": [],
   "source": []
  }
 ],
 "metadata": {
  "kernelspec": {
   "display_name": "cv",
   "language": "python",
   "name": "python3"
  },
  "language_info": {
   "codemirror_mode": {
    "name": "ipython",
    "version": 3
   },
   "file_extension": ".py",
   "mimetype": "text/x-python",
   "name": "python",
   "nbconvert_exporter": "python",
   "pygments_lexer": "ipython3",
   "version": "3.9.16"
  }
 },
 "nbformat": 4,
 "nbformat_minor": 2
}
