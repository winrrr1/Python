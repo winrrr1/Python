{
 "cells": [
  {
   "cell_type": "code",
   "execution_count": 16,
   "metadata": {},
   "outputs": [],
   "source": [
    "import numpy as np\n",
    "import cv2\n",
    "import matplotlib.pylab as plt\n",
    "\n",
    "# --① 이미지 읽기\n",
    "# 이미지 파일을 읽어옵니다.\n",
    "img = cv2.imread('../img/lion_face.jpg')\n",
    "\n",
    "# --② 마스크 만들기\n",
    "# 이미지와 같은 크기의 검정색 마스크를 생성합니다.\n",
    "mask = np.zeros_like(img)\n",
    "\n",
    "# 마스크에 흰색 원을 그립니다. 원의 중심은 (150, 140), 반지름은 100입니다.\n",
    "# -1은 원을 채우라는 의미입니다.\n",
    "cv2.circle(mask, (220, 180), 90, (255, 255, 255), -1)\n",
    "\n",
    "# --③ 마스킹\n",
    "# 원본 이미지와 마스크를 비트와이즈 AND 연산하여 마스킹합니다.\n",
    "# 마스크가 흰색인 부분만 원본 이미지에서 보입니다.\n",
    "masked = cv2.bitwise_and(img, mask)\n",
    "\n",
    "# --④ 결과 출력\n",
    "# 원본 이미지와 마스크, 마스킹된 이미지를 각각 윈도우에 표시합니다.\n",
    "cv2.imshow('original', img)   # 원본 이미지\n",
    "cv2.imshow('mask', mask)      # 마스크 이미지\n",
    "cv2.imshow('masked', masked)  # 마스킹된 이미지\n",
    "\n",
    "# 키 입력을 기다린 후 모든 창을 닫습니다.\n",
    "cv2.waitKey()\n",
    "cv2.destroyAllWindows()\n"
   ]
  }
 ],
 "metadata": {
  "kernelspec": {
   "display_name": "cv",
   "language": "python",
   "name": "python3"
  },
  "language_info": {
   "codemirror_mode": {
    "name": "ipython",
    "version": 3
   },
   "file_extension": ".py",
   "mimetype": "text/x-python",
   "name": "python",
   "nbconvert_exporter": "python",
   "pygments_lexer": "ipython3",
   "version": "3.9.16"
  }
 },
 "nbformat": 4,
 "nbformat_minor": 2
}
