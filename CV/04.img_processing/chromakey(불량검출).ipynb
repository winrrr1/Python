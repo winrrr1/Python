{
 "cells": [
  {
   "cell_type": "code",
   "execution_count": 2,
   "metadata": {},
   "outputs": [
    {
     "ename": "error",
     "evalue": "OpenCV(4.10.0) D:\\a\\opencv-python\\opencv-python\\opencv\\modules\\core\\src\\arithm.cpp:230: error: (-215:Assertion failed) (mtype == CV_8U || mtype == CV_8S) && _mask.sameSize(*psrc1) in function 'cv::binary_op'\n",
     "output_type": "error",
     "traceback": [
      "\u001b[1;31m---------------------------------------------------------------------------\u001b[0m",
      "\u001b[1;31merror\u001b[0m                                     Traceback (most recent call last)",
      "Cell \u001b[1;32mIn[2], line 36\u001b[0m\n\u001b[0;32m     34\u001b[0m roi \u001b[38;5;241m=\u001b[39m img2[y:h, x:w]                        \u001b[38;5;66;03m# 배경 이미지에서 크로마키 이미지가 들어갈 영역을 선택\u001b[39;00m\n\u001b[0;32m     35\u001b[0m fg \u001b[38;5;241m=\u001b[39m cv2\u001b[38;5;241m.\u001b[39mbitwise_and(img1, img1, mask\u001b[38;5;241m=\u001b[39mmask_inv)  \u001b[38;5;66;03m# 크로마키 이미지에서 크로마키 색상 영역을 제거\u001b[39;00m\n\u001b[1;32m---> 36\u001b[0m bg \u001b[38;5;241m=\u001b[39m \u001b[43mcv2\u001b[49m\u001b[38;5;241;43m.\u001b[39;49m\u001b[43mbitwise_and\u001b[49m\u001b[43m(\u001b[49m\u001b[43mroi\u001b[49m\u001b[43m,\u001b[49m\u001b[43m \u001b[49m\u001b[43mroi\u001b[49m\u001b[43m,\u001b[49m\u001b[43m \u001b[49m\u001b[43mmask\u001b[49m\u001b[38;5;241;43m=\u001b[39;49m\u001b[43mmask\u001b[49m\u001b[43m)\u001b[49m        \u001b[38;5;66;03m# 배경 이미지에서 크로마키 색상 영역만 선택\u001b[39;00m\n\u001b[0;32m     37\u001b[0m img2[y:h, x:w] \u001b[38;5;241m=\u001b[39m fg \u001b[38;5;241m+\u001b[39m bg                        \u001b[38;5;66;03m# 크로마키 이미지와 배경 이미지를 합성\u001b[39;00m\n\u001b[0;32m     39\u001b[0m \u001b[38;5;66;03m#--⑦ 결과 출력\u001b[39;00m\n",
      "\u001b[1;31merror\u001b[0m: OpenCV(4.10.0) D:\\a\\opencv-python\\opencv-python\\opencv\\modules\\core\\src\\arithm.cpp:230: error: (-215:Assertion failed) (mtype == CV_8U || mtype == CV_8S) && _mask.sameSize(*psrc1) in function 'cv::binary_op'\n"
     ]
    }
   ],
   "source": [
    "import cv2\n",
    "import numpy as np\n",
    "import matplotlib.pylab as plt\n",
    "\n",
    "#--① 크로마키 배경 영상과 합성할 배경 영상 읽기\n",
    "img1 = cv2.imread('../img/m.jpg')  # 크로마키 배경이 있는 이미지 읽기\n",
    "img2 = cv2.imread('../img/street.jpg')         # 배경으로 사용할 이미지 읽기\n",
    "\n",
    "#--② ROI 선택을 위한 좌표 계산\n",
    "height1, width1 = img1.shape[:2]  # 크로마키 이미지의 높이와 너비를 가져옴\n",
    "height2, width2 = img2.shape[:2]  # 배경 이미지의 높이와 너비를 가져옴\n",
    "x = (width2 - width1) // 2        # 배경 이미지의 가로 중앙에 크로마키 이미지를 배치하기 위한 x 좌표 계산\n",
    "y = height2 - height1             # 배경 이미지의 세로 아래쪽에 크로마키 이미지를 배치하기 위한 y 좌표 계산\n",
    "w = x + width1                    # 크로마키 이미지가 끝나는 가로 좌표\n",
    "h = y + height1                   # 크로마키 이미지가 끝나는 세로 좌표\n",
    "\n",
    "#--③ 크로마키 배경 영상에서 크로마키 영역을 10픽셀 정도로 지정\n",
    "chromakey = img1[:10, :10, :]      # 크로마키 색상을 얻기 위해 이미지의 왼쪽 위 10x10 픽셀 영역을 선택\n",
    "offset = 20                        # 색상 범위에 여유를 주기 위한 오프셋 설정\n",
    "\n",
    "#--④ 크로마키 영역과 영상 전체를 HSV로 변경\n",
    "hsv_chroma = cv2.cvtColor(chromakey, cv2.COLOR_BGR2HSV)  # 크로마키 영역을 HSV 색상 공간으로 변환\n",
    "hsv_img = cv2.cvtColor(img1, cv2.COLOR_BGR2HSV)          # 크로마키 이미지를 전체적으로 HSV 색상 공간으로 변환\n",
    "\n",
    "#--⑤ 크로마키 영역의 H값에서 offset 만큼 여유를 두어서 범위 지정\n",
    "# offset 값은 여러차례 시도 후 결정\n",
    "chroma_h = hsv_chroma[:,:,0]  # 크로마키 영역에서 H 채널 값만 추출\n",
    "lower = np.array([chroma_h.min()-offset, 100, 100])  # 크로마키 색상 하한값 설정\n",
    "upper = np.array([chroma_h.max()+offset, 255, 255])  # 크로마키 색상 상한값 설정\n",
    "\n",
    "#--⑥ 마스크 생성 및 마스킹 후 합성\n",
    "mask = cv2.inRange(hsv_img, lower, upper)   # 이미지에서 크로마키 색상 영역을 마스크로 생성\n",
    "mask_inv = cv2.bitwise_not(mask)            # 마스크를 반전시켜 크로마키 색상이 아닌 영역을 선택\n",
    "roi = img2[y:h, x:w]                        # 배경 이미지에서 크로마키 이미지가 들어갈 영역을 선택\n",
    "fg = cv2.bitwise_and(img1, img1, mask=mask_inv)  # 크로마키 이미지에서 크로마키 색상 영역을 제거\n",
    "bg = cv2.bitwise_and(roi, roi, mask=mask)        # 배경 이미지에서 크로마키 색상 영역만 선택\n",
    "img2[y:h, x:w] = fg + bg                        # 크로마키 이미지와 배경 이미지를 합성\n",
    "\n",
    "#--⑦ 결과 출력\n",
    "cv2.imshow('chromakey', img1)  # 크로마키 이미지 출력\n",
    "cv2.imshow('added', img2)      # 합성된 이미지 출력\n",
    "cv2.waitKey()                  # 키 입력 대기\n",
    "cv2.destroyAllWindows()        # 모든 창 닫기\n"
   ]
  },
  {
   "cell_type": "code",
   "execution_count": null,
   "metadata": {},
   "outputs": [],
   "source": []
  }
 ],
 "metadata": {
  "kernelspec": {
   "display_name": "cv",
   "language": "python",
   "name": "python3"
  },
  "language_info": {
   "codemirror_mode": {
    "name": "ipython",
    "version": 3
   },
   "file_extension": ".py",
   "mimetype": "text/x-python",
   "name": "python",
   "nbconvert_exporter": "python",
   "pygments_lexer": "ipython3",
   "version": "3.9.16"
  }
 },
 "nbformat": 4,
 "nbformat_minor": 2
}
