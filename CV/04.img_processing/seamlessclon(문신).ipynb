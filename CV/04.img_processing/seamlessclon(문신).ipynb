{
 "cells": [
  {
   "cell_type": "code",
   "execution_count": 11,
   "metadata": {},
   "outputs": [],
   "source": [
    "import cv2\n",
    "import numpy as np\n",
    "import matplotlib.pylab as plt\n",
    " \n",
    "#--① 합성할 이미지를 읽어들임\n",
    "img1 = cv2.imread(\"../img/3.jpg\")  # 첫 번째 이미지 (합성할 이미지) 읽기\n",
    "img2 = cv2.imread(\"../img/skull.jpg\")  # 두 번째 이미지 (배경 이미지) 읽기\n",
    "\n",
    "#--② 마스크 생성, 합성할 이미지 전체를 포함하는 마스크를 만듦\n",
    "mask = np.full_like(img1, 255)  # 첫 번째 이미지와 같은 크기로, 모든 값이 255인 마스크 생성\n",
    " \n",
    "#--③ 합성할 이미지를 배경 이미지의 중앙에 위치시키기 위해 좌표를 계산\n",
    "height, width = img2.shape[:2]  # 배경 이미지의 높이와 너비를 가져옴\n",
    "center = (width//2, height//2)  # 배경 이미지의 중앙 좌표를 계산\n",
    " \n",
    "#--④ seamlessClone 함수를 이용해 이미지 합성\n",
    "normal = cv2.seamlessClone(img1, img2, mask, center, cv2.NORMAL_CLONE)  # 기본 클론 모드로 합성\n",
    "mixed = cv2.seamlessClone(img1, img2, mask, center, cv2.MIXED_CLONE)    # 혼합 클론 모드로 합성\n",
    "\n",
    "#--⑤ 결과 이미지 출력\n",
    "cv2.imshow('normal', normal)  # 기본 클론 모드로 합성된 이미지 출력\n",
    "cv2.imshow('mixed', mixed)    # 혼합 클론 모드로 합성된 이미지 출력\n",
    "cv2.waitKey()  # 키 입력 대기\n",
    "cv2.destroyAllWindows()  # 모든 윈도우 닫기\n"
   ]
  },
  {
   "cell_type": "code",
   "execution_count": 12,
   "metadata": {},
   "outputs": [],
   "source": [
    "import cv2\n",
    "import numpy as np\n",
    "import matplotlib.pylab as plt\n",
    " \n",
    "#--① 합성할 이미지를 읽어들임\n",
    "img1 = cv2.imread(\"../img/3.jpg\")  # 첫 번째 이미지 (합성할 이미지) 읽기\n",
    "img2 = cv2.imread(\"../img/skull.jpg\")  # 두 번째 이미지 (배경 이미지) 읽기\n",
    "\n",
    "#--② 마스크 생성, 합성할 이미지 전체를 포함하는 마스크를 만듦\n",
    "mask = np.full_like(img1, 255)  # 첫 번째 이미지와 같은 크기로, 모든 값이 255인 마스크 생성\n",
    " \n",
    "#--③ 합성할 이미지를 배경 이미지의 상단에 위치시키기 위해 좌표를 계산\n",
    "height, width = img2.shape[:2]  # 배경 이미지의 높이와 너비를 가져옴\n",
    "img1_height, img1_width = img1.shape[:2]  # 합성할 이미지의 높이와 너비를 가져옴\n",
    "\n",
    "#-- 중앙이 아닌 상단 위치를 계산 (가로 중앙, 세로 위쪽에 맞춤)\n",
    "center = (width // 2, img1_height // 2)  # 배경 이미지의 가로 중앙과 세로 위쪽에 맞추어 좌표 계산\n",
    "\n",
    "#--④ seamlessClone 함수를 이용해 이미지 합성\n",
    "normal = cv2.seamlessClone(img1, img2, mask, center, cv2.NORMAL_CLONE)  # 기본 클론 모드로 합성\n",
    "mixed = cv2.seamlessClone(img1, img2, mask, center, cv2.MIXED_CLONE)    # 혼합 클론 모드로 합성\n",
    "\n",
    "#--⑤ 결과 이미지 출력\n",
    "cv2.imshow('normal', normal)  # 기본 클론 모드로 합성된 이미지 출력\n",
    "cv2.imshow('mixed', mixed)    # 혼합 클론 모드로 합성된 이미지 출력\n",
    "cv2.waitKey()  # 키 입력 대기\n",
    "cv2.destroyAllWindows()  # 모든 윈도우 닫기\n"
   ]
  },
  {
   "cell_type": "code",
   "execution_count": null,
   "metadata": {},
   "outputs": [],
   "source": []
  }
 ],
 "metadata": {
  "kernelspec": {
   "display_name": "cv",
   "language": "python",
   "name": "python3"
  },
  "language_info": {
   "codemirror_mode": {
    "name": "ipython",
    "version": 3
   },
   "file_extension": ".py",
   "mimetype": "text/x-python",
   "name": "python",
   "nbconvert_exporter": "python",
   "pygments_lexer": "ipython3",
   "version": "3.9.16"
  }
 },
 "nbformat": 4,
 "nbformat_minor": 2
}
