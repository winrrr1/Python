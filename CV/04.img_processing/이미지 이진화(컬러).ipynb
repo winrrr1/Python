{
 "cells": [
  {
   "cell_type": "code",
   "execution_count": null,
   "metadata": {},
   "outputs": [],
   "source": [
    "# 단순 절대값 차이 및 이진화 "
   ]
  },
  {
   "cell_type": "code",
   "execution_count": 1,
   "metadata": {},
   "outputs": [],
   "source": [
    "import cv2\n",
    "import numpy as np\n",
    "\n",
    "# 이미지 읽기\n",
    "img1 = cv2.imread('../img/1.png')\n",
    "img2 = cv2.imread('../img/2.png')\n",
    "\n",
    "# 이미지를 그레이스케일로 변환\n",
    "img1_gray = cv2.cvtColor(img1, cv2.COLOR_BGR2GRAY)\n",
    "img2_gray = cv2.cvtColor(img2, cv2.COLOR_BGR2GRAY)\n",
    "\n",
    "# 절대값 차이 계산\n",
    "diff = cv2.absdiff(img1_gray, img2_gray)\n",
    "\n",
    "# 차이 이미지를 이진화\n",
    "_, diff_bin = cv2.threshold(diff, 25, 255, cv2.THRESH_BINARY)\n",
    "diff_red = cv2.cvtColor(diff, cv2.COLOR_GRAY2BGR)\n",
    "diff_red[:,:,2] = 0\n",
    "\n",
    "#--④ 두 번째 이미지에 변화 부분 표시\n",
    "spot = cv2.bitwise_xor(img2, diff_red)\n",
    "\n",
    "# 결과 출력\n",
    "cv2.imshow('Original Image 1', img1)\n",
    "cv2.imshow('Original Image 2', img2)\n",
    "cv2.imshow('Difference', diff_bin)\n",
    "cv2.imshow('spot', spot)\n",
    "cv2.waitKey(0)\n",
    "cv2.destroyAllWindows()\n"
   ]
  },
  {
   "cell_type": "code",
   "execution_count": null,
   "metadata": {},
   "outputs": [],
   "source": [
    "# 2. 컬러차이 강조 "
   ]
  },
  {
   "cell_type": "code",
   "execution_count": 12,
   "metadata": {},
   "outputs": [],
   "source": [
    "import cv2\n",
    "import numpy as np\n",
    "\n",
    "# 이미지 읽기\n",
    "img1 = cv2.imread('../img/1.png')\n",
    "img2 = cv2.imread('../img/2.png')\n",
    "\n",
    "# 이미지를 그레이스케일로 변환\n",
    "img1_gray = cv2.cvtColor(img1, cv2.COLOR_BGR2GRAY)\n",
    "img2_gray = cv2.cvtColor(img2, cv2.COLOR_BGR2GRAY)\n",
    "\n",
    "# 절대값 차이 계산\n",
    "diff = cv2.absdiff(img1_gray, img2_gray)\n",
    "\n",
    "# 차이 이미지를 이진화\n",
    "_, diff_bin = cv2.threshold(diff, 25, 255, cv2.THRESH_BINARY)\n",
    "\n",
    "# 이진화된 차이 이미지를 컬러로 변환\n",
    "diff_colored = cv2.cvtColor(diff_bin, cv2.COLOR_GRAY2BGR)\n",
    "\n",
    "# 차이 부분을 빨간색으로 강조\n",
    "diff_colored[np.where(diff_bin > 0)] = [0, 0, 255]\n",
    "\n",
    "# 원본 이미지에 차이 부분을 오버레이\n",
    "highlighted_img = cv2.addWeighted(img2, 0.7, diff_colored, 0.3, 0)\n",
    "\n",
    "# 결과 출력\n",
    "cv2.imshow('Original Image 1', img1)\n",
    "cv2.imshow('Original Image 2', img2)\n",
    "cv2.imshow('Highlighted Differences', highlighted_img)\n",
    "cv2.waitKey(0)\n",
    "cv2.destroyAllWindows()\n",
    "\n"
   ]
  },
  {
   "cell_type": "code",
   "execution_count": 8,
   "metadata": {},
   "outputs": [],
   "source": [
    "# 3. 이미지 차이 시각화"
   ]
  },
  {
   "cell_type": "code",
   "execution_count": 13,
   "metadata": {},
   "outputs": [],
   "source": [
    "import cv2\n",
    "import numpy as np\n",
    "\n",
    "# 이미지 읽기\n",
    "img1 = cv2.imread('../img/1.png')\n",
    "img2 = cv2.imread('../img/2.png')\n",
    "\n",
    "# 이미지를 그레이스케일로 변환\n",
    "img1_gray = cv2.cvtColor(img1, cv2.COLOR_BGR2GRAY)\n",
    "img2_gray = cv2.cvtColor(img2, cv2.COLOR_BGR2GRAY)\n",
    "\n",
    "# 절대값 차이 계산\n",
    "diff = cv2.absdiff(img1_gray, img2_gray)\n",
    "\n",
    "# 차이 이미지를 이진화\n",
    "_, diff_bin = cv2.threshold(diff, 25, 255, cv2.THRESH_BINARY)\n",
    "\n",
    "# 이진화된 차이 이미지를 컬러로 변환\n",
    "diff_colored = cv2.cvtColor(diff_bin, cv2.COLOR_GRAY2BGR)\n",
    "\n",
    "# 빨간색 강조를 위한 마스크 생성\n",
    "red_mask = (diff_bin > 0)\n",
    "\n",
    "# 차이 부분을 빨간색으로 강조\n",
    "diff_colored[red_mask] = [0, 0, 255]\n",
    "\n",
    "# 원본 이미지에 차이 부분을 오버레이\n",
    "highlighted_img = cv2.addWeighted(img2, 0.7, diff_colored, 0.3, 0)\n",
    "\n",
    "# 결과 출력\n",
    "cv2.imshow('Original Image 1', img1)\n",
    "cv2.imshow('Original Image 2', img2)\n",
    "cv2.imshow('Highlighted Differences', highlighted_img)\n",
    "cv2.waitKey(0)\n",
    "cv2.destroyAllWindows()\n"
   ]
  },
  {
   "cell_type": "code",
   "execution_count": null,
   "metadata": {},
   "outputs": [],
   "source": []
  }
 ],
 "metadata": {
  "kernelspec": {
   "display_name": "cv",
   "language": "python",
   "name": "python3"
  },
  "language_info": {
   "codemirror_mode": {
    "name": "ipython",
    "version": 3
   },
   "file_extension": ".py",
   "mimetype": "text/x-python",
   "name": "python",
   "nbconvert_exporter": "python",
   "pygments_lexer": "ipython3",
   "version": "3.9.16"
  }
 },
 "nbformat": 4,
 "nbformat_minor": 2
}
