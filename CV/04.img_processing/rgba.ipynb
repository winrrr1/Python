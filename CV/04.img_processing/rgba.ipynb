{
 "cells": [
  {
   "cell_type": "code",
   "execution_count": 1,
   "metadata": {},
   "outputs": [
    {
     "name": "stdout",
     "output_type": "stream",
     "text": [
      "default (120, 98, 3) color (120, 98, 3) unchanged (120, 98, 4)\n"
     ]
    }
   ],
   "source": [
    "import cv2\n",
    "import numpy as np\n",
    "\n",
    "# 기본 값 옵션\n",
    "img = cv2.imread('../img/opencv_logo.png')   \n",
    "# IMREAD_COLOR 옵션                   \n",
    "bgr = cv2.imread('../img/opencv_logo.png', cv2.IMREAD_COLOR)    \n",
    "# IMREAD_UNCHANGED 옵션\n",
    "bgra = cv2.imread('../img/opencv_logo.png', cv2.IMREAD_UNCHANGED) \n",
    "# 각 옵션에 따른 이미지 shape\n",
    "print(\"default\", img.shape, \"color\", bgr.shape, \"unchanged\", bgra.shape) \n",
    "\n",
    "cv2.imshow('bgr', bgr)\n",
    "cv2.imshow('bgra', bgra)\n",
    "cv2.imshow('alpha', bgra[:,:,3])  # 알파 채널만 표시\n",
    "cv2.waitKey(0)\n",
    "cv2.destroyAllWindows()"
   ]
  },
  {
   "cell_type": "code",
   "execution_count": 2,
   "metadata": {},
   "outputs": [
    {
     "name": "stdout",
     "output_type": "stream",
     "text": [
      "(120, 98, 3) (120, 98, 4) (120, 98, 3) (120, 98)\n"
     ]
    }
   ],
   "source": [
    "import cv2\n",
    "import numpy as np\n",
    "\n",
    "# 기본 값 옵션\n",
    "img1 = cv2.imread('../img/opencv_logo.png')   \n",
    "img2 = cv2.imread('../img/opencv_logo.png', cv2.IMREAD_UNCHANGED)\n",
    "img3 = cv2.imread('../img/opencv_logo.png', cv2.IMREAD_COLOR)\n",
    "img4 = cv2.imread('../img/opencv_logo.png', cv2.IMREAD_GRAYSCALE)\n",
    "print(img1.shape, img2.shape, img3.shape, img4.shape)\n"
   ]
  },
  {
   "cell_type": "code",
   "execution_count": 11,
   "metadata": {},
   "outputs": [],
   "source": [
    "cv2.imshow('a',img3)\n",
    "cv2.waitKey(0)\n",
    "cv2.destroyAllWindows()"
   ]
  },
  {
   "cell_type": "code",
   "execution_count": 12,
   "metadata": {},
   "outputs": [],
   "source": [
    "cv2.imshow('alpha', img2[:,:,(3)]) \n",
    "cv2.waitKey(0)\n",
    "cv2.destroyAllWindows()"
   ]
  },
  {
   "cell_type": "code",
   "execution_count": null,
   "metadata": {},
   "outputs": [],
   "source": []
  }
 ],
 "metadata": {
  "kernelspec": {
   "display_name": "cv",
   "language": "python",
   "name": "python3"
  },
  "language_info": {
   "codemirror_mode": {
    "name": "ipython",
    "version": 3
   },
   "file_extension": ".py",
   "mimetype": "text/x-python",
   "name": "python",
   "nbconvert_exporter": "python",
   "pygments_lexer": "ipython3",
   "version": "3.9.16"
  }
 },
 "nbformat": 4,
 "nbformat_minor": 2
}
