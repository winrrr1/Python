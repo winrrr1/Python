{
 "cells": [
  {
   "cell_type": "code",
   "execution_count": 2,
   "metadata": {},
   "outputs": [],
   "source": [
    "import cv2\n",
    "import numpy as np\n",
    "import matplotlib.pylab as plt\n",
    "\n",
    "#--① 이미지 읽어서 YUV 색상 공간으로 변경\n",
    "img = cv2.imread('../img/bright.jpg')               # 이미지를 BGR 색상 공간으로 읽어옵니다.\n",
    "img_yuv = cv2.cvtColor(img, cv2.COLOR_BGR2YUV)     # BGR 색상 공간 이미지를 YUV 색상 공간으로 변환합니다.\n",
    "\n",
    "#--② 밝기 채널에 대해서 히스토그램 평활화 적용\n",
    "img_eq = img_yuv.copy()                           # 원본 YUV 이미지를 복사합니다.\n",
    "img_eq[:,:,0] = cv2.equalizeHist(img_eq[:,:,0])   # Y 채널(밝기 채널)에 대해 히스토그램 평활화를 적용합니다.\n",
    "img_eq = cv2.cvtColor(img_eq, cv2.COLOR_YUV2BGR)  # YUV 색상 공간 이미지를 다시 BGR 색상 공간으로 변환합니다.\n",
    "\n",
    "#--③ 밝기 채널에 대해서 CLAHE 적용\n",
    "img_clahe = img_yuv.copy()                        # 원본 YUV 이미지를 복사합니다.\n",
    "clahe = cv2.createCLAHE(clipLimit=3.0, tileGridSize=(8,8))  # CLAHE (Contrast Limited Adaptive Histogram Equalization) 객체 생성\n",
    "img_clahe[:,:,0] = clahe.apply(img_clahe[:,:,0])   # Y 채널(밝기 채널)에 대해 CLAHE를 적용합니다.\n",
    "img_clahe = cv2.cvtColor(img_clahe, cv2.COLOR_YUV2BGR)  # YUV 색상 공간 이미지를 다시 BGR 색상 공간으로 변환합니다.\n",
    "\n",
    "#--④ 결과 출력\n",
    "cv2.imshow('Before', img)          # 원본 이미지를 화면에 표시합니다.\n",
    "cv2.imshow('CLAHE', img_clahe)     # CLAHE 적용 후 이미지를 화면에 표시합니다.\n",
    "cv2.imshow('equalizeHist', img_eq) # 히스토그램 평활화 적용 후 이미지를 화면에 표시합니다.\n",
    "cv2.waitKey()                      # 키 입력을 대기합니다.\n",
    "cv2.destroyAllWindows()            # 모든 OpenCV 창을 닫습니다.\n"
   ]
  },
  {
   "cell_type": "code",
   "execution_count": 7,
   "metadata": {},
   "outputs": [],
   "source": [
    "import cv2\n",
    "import numpy as np\n",
    "import matplotlib.pylab as plt\n",
    "\n",
    "#--① 이미지 읽어서 YUV 색상 공간으로 변경\n",
    "img = cv2.imread('../img/anm.jpg')               # 이미지를 BGR 색상 공간으로 읽어옵니다.\n",
    "img_yuv = cv2.cvtColor(img, cv2.COLOR_BGR2YUV)     # BGR 색상 공간 이미지를 YUV 색상 공간으로 변환합니다.\n",
    "\n",
    "#--② 밝기 채널에 대해서 히스토그램 평활화 적용\n",
    "img_eq = img_yuv.copy()                           # 원본 YUV 이미지를 복사합니다.\n",
    "img_eq[:,:,0] = cv2.equalizeHist(img_eq[:,:,0])   # Y 채널(밝기 채널)에 대해 히스토그램 평활화를 적용합니다.\n",
    "img_eq = cv2.cvtColor(img_eq, cv2.COLOR_YUV2BGR)  # YUV 색상 공간 이미지를 다시 BGR 색상 공간으로 변환합니다.\n",
    "\n",
    "#--③ 밝기 채널에 대해서 CLAHE 적용\n",
    "img_clahe = img_yuv.copy()                        # 원본 YUV 이미지를 복사합니다.\n",
    "clahe = cv2.createCLAHE(clipLimit=3.0, tileGridSize=(8,8))  # CLAHE (Contrast Limited Adaptive Histogram Equalization) 객체 생성\n",
    "img_clahe[:,:,0] = clahe.apply(img_clahe[:,:,0])   # Y 채널(밝기 채널)에 대해 CLAHE를 적용합니다.\n",
    "img_clahe = cv2.cvtColor(img_clahe, cv2.COLOR_YUV2BGR)  # YUV 색상 공간 이미지를 다시 BGR 색상 공간으로 변환합니다.\n",
    "\n",
    "#--④ 결과 출력\n",
    "cv2.imshow('Before', img)          # 원본 이미지를 화면에 표시합니다.\n",
    "cv2.imshow('CLAHE', img_clahe)     # CLAHE 적용 후 이미지를 화면에 표시합니다.\n",
    "cv2.imshow('equalizeHist', img_eq) # 히스토그램 평활화 적용 후 이미지를 화면에 표시합니다.\n",
    "cv2.waitKey()                      # 키 입력을 대기합니다.\n",
    "cv2.destroyAllWindows()            # 모든 OpenCV 창을 닫습니다.\n"
   ]
  },
  {
   "cell_type": "code",
   "execution_count": null,
   "metadata": {},
   "outputs": [],
   "source": []
  }
 ],
 "metadata": {
  "kernelspec": {
   "display_name": "cv",
   "language": "python",
   "name": "python3"
  },
  "language_info": {
   "codemirror_mode": {
    "name": "ipython",
    "version": 3
   },
   "file_extension": ".py",
   "mimetype": "text/x-python",
   "name": "python",
   "nbconvert_exporter": "python",
   "pygments_lexer": "ipython3",
   "version": "3.9.16"
  }
 },
 "nbformat": 4,
 "nbformat_minor": 2
}
