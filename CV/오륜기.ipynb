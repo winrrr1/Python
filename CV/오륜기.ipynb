{
 "cells": [
  {
   "cell_type": "code",
   "execution_count": 1,
   "metadata": {},
   "outputs": [],
   "source": [
    "import cv2\n",
    "\n",
    "title = 'Olympic Rings'  # 창 제목\n",
    "img = cv2.imread('./ky.jpg')  # 이미지 읽기\n",
    "\n",
    "# 이미지가 제대로 로드되지 않았을 때 예외 처리\n",
    "if img is None:\n",
    "    print('이미지를 불러올 수 없습니다. 파일 경로를 확인하십시오.')\n",
    "    exit()\n",
    "\n",
    "# 오륜기의 색상 미리 정의\n",
    "colors = {\n",
    "    'blue': (255, 0, 0),\n",
    "    'black': (0, 0, 0),\n",
    "    'red': (0, 0, 255),\n",
    "    'yellow': (0, 255, 255),\n",
    "    'green': (0, 255, 0)\n",
    "}\n",
    "\n",
    "# 원의 중심 좌표와 반지름 설정 (상단에 배치)\n",
    "centers = [(450, 355), (600, 355), (750, 355), (525, 430), (675, 430)]\n",
    "radius = 70\n",
    "thickness = 10\n",
    "\n",
    "# 각 원을 그리기\n",
    "cv2.circle(img, centers[0], radius, colors['blue'], thickness)\n",
    "cv2.circle(img, centers[1], radius, colors['black'], thickness)\n",
    "cv2.circle(img, centers[2], radius, colors['red'], thickness)\n",
    "cv2.circle(img, centers[3], radius, colors['yellow'], thickness)\n",
    "cv2.circle(img, centers[4], radius, colors['green'], thickness)\n",
    "\n",
    "# 마우스 이벤트 콜백 함수 정의\n",
    "def onMouse(event, x, y, flags, param):\n",
    "    if event == cv2.EVENT_MOUSEMOVE:\n",
    "        img_copy = img.copy()  # 원본 이미지를 복사하여 수정\n",
    "        cv2.circle(img_copy, (x, y), 5, (0, 0, 255), -1)  # 마우스 위치에 빨간색 점 그리기\n",
    "        cv2.putText(img_copy, f'({x}, {y})', (x + 10, y - 10), cv2.FONT_HERSHEY_SIMPLEX, 0.5, (0, 0, 255), 1)  # 좌표 텍스트 추가\n",
    "        cv2.imshow(title, img_copy)  # 업데이트된 이미지 표시\n",
    "\n",
    "# 창 생성 및 마우스 콜백 함수 등록\n",
    "cv2.imshow(title, img)\n",
    "cv2.setMouseCallback(title, onMouse)\n",
    "\n",
    "# ESC 키를 눌러 창 닫기\n",
    "while True:\n",
    "    if cv2.waitKey(0) & 0xFF == 27:  # esc로 종료\n",
    "        break\n",
    "\n",
    "cv2.destroyAllWindows()\n"
   ]
  },
  {
   "cell_type": "code",
   "execution_count": null,
   "metadata": {},
   "outputs": [],
   "source": []
  }
 ],
 "metadata": {
  "kernelspec": {
   "display_name": "cv",
   "language": "python",
   "name": "python3"
  },
  "language_info": {
   "codemirror_mode": {
    "name": "ipython",
    "version": 3
   },
   "file_extension": ".py",
   "mimetype": "text/x-python",
   "name": "python",
   "nbconvert_exporter": "python",
   "pygments_lexer": "ipython3",
   "version": "3.9.16"
  }
 },
 "nbformat": 4,
 "nbformat_minor": 2
}
