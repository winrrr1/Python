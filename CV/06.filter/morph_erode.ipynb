{
 "cells": [
  {
   "cell_type": "code",
   "execution_count": 3,
   "metadata": {},
   "outputs": [],
   "source": [
    "import cv2\n",
    "import numpy as np\n",
    "\n",
    "# 이미지 읽기\n",
    "img = cv2.imread('../img/morph_dot.png')\n",
    "\n",
    "# 구조화 요소 커널 생성 (3x3 크기의 사각형 커널) ---①\n",
    "k = cv2.getStructuringElement(cv2.MORPH_RECT, (3,3))\n",
    "\n",
    "# 침식 연산 적용 ---②\n",
    "erosion = cv2.erode(img, k)\n",
    "\n",
    "# 원본 이미지와 침식 연산 결과를 나란히 합쳐서 출력\n",
    "merged = np.hstack((img, erosion))\n",
    "\n",
    "cv2.imwrite('C:/Users/winrr/Pictures/Screenshots/pfile/morph_erode.jpg',merged)\n",
    "cv2.imshow('Erode', merged)\n",
    "cv2.waitKey(0)\n",
    "cv2.destroyAllWindows()\n"
   ]
  },
  {
   "cell_type": "code",
   "execution_count": null,
   "metadata": {},
   "outputs": [],
   "source": []
  }
 ],
 "metadata": {
  "kernelspec": {
   "display_name": "cv",
   "language": "python",
   "name": "python3"
  },
  "language_info": {
   "codemirror_mode": {
    "name": "ipython",
    "version": 3
   },
   "file_extension": ".py",
   "mimetype": "text/x-python",
   "name": "python",
   "nbconvert_exporter": "python",
   "pygments_lexer": "ipython3",
   "version": "3.9.16"
  }
 },
 "nbformat": 4,
 "nbformat_minor": 2
}
