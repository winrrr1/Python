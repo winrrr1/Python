{
 "cells": [
  {
   "cell_type": "code",
   "execution_count": 1,
   "metadata": {},
   "outputs": [],
   "source": [
    "import cv2\n",
    "import numpy as np\n",
    "\n",
    "# 이미지를 파일에서 읽어옴\n",
    "img = cv2.imread(\"../img/gaussian_noise.jpg\")\n",
    "\n",
    "# 가우시안 필터 적용 ---①\n",
    "# 이미지에 5x5 크기의 커널을 사용하여 가우시안 블러 적용 (평균화 필터)\n",
    "blur1 = cv2.GaussianBlur(img, (5,5), 0)\n",
    "\n",
    "# 바이레터럴 필터 적용 ---②\n",
    "# 이미지에 바이레터럴 필터 적용 (엣지를 보존하면서 노이즈를 제거하는 필터)\n",
    "# 필터 크기 5, 색상 및 거리 시그마 값 75로 설정\n",
    "blur2 = cv2.bilateralFilter(img, 5, 75, 75)\n",
    "\n",
    "# 원본 이미지와 필터가 적용된 이미지를 가로로 병합하여 하나의 이미지로 만듦\n",
    "merged = np.hstack((img, blur1, blur2))\n",
    "\n",
    "# 병합된 이미지를 화면에 출력\n",
    "cv2.imshow('bilateral', merged)\n",
    "\n",
    "# 키 입력을 대기\n",
    "cv2.waitKey(0)\n",
    "\n",
    "# 모든 창을 닫음\n",
    "cv2.destroyAllWindows()\n"
   ]
  },
  {
   "cell_type": "code",
   "execution_count": 16,
   "metadata": {},
   "outputs": [],
   "source": [
    "import cv2\n",
    "import numpy as np\n",
    "\n",
    "# 이미지를 파일에서 읽어옴\n",
    "img = cv2.imread(\"../img/sc1.jpg\")\n",
    "\n",
    "# 가우시안 필터 적용 ---①\n",
    "# 이미지에 5x5 크기의 커널을 사용하여 가우시안 블러 적용 (평균화 필터)\n",
    "blur1 = cv2.GaussianBlur(img, (5,5), 0)\n",
    "\n",
    "# 바이레터럴 필터 적용 ---②\n",
    "# 이미지에 바이레터럴 필터 적용 (엣지를 보존하면서 노이즈를 제거하는 필터)\n",
    "# 필터 크기 5, 색상 및 거리 시그마 값 75로 설정\n",
    "blur2 = cv2.bilateralFilter(img, 5, 500, 1000)\n",
    "\n",
    "# 원본 이미지와 필터가 적용된 이미지를 가로로 병합하여 하나의 이미지로 만듦\n",
    "merged = np.hstack((img, blur1, blur2))\n",
    "\n",
    "# 병합된 이미지를 화면에 출력\n",
    "cv2.imshow('bilateral', merged)\n",
    "\n",
    "# 병합된 이미지를 파일에 저장 ---③\n",
    "cv2.imwrite(r'C:\\Users\\winrr\\Pictures\\Screenshots\\pfile\\sc1.png', merged)\n",
    "\n",
    "# 키 입력을 대기\n",
    "cv2.waitKey(0)\n",
    "\n",
    "# 모든 창을 닫음\n",
    "cv2.destroyAllWindows()\n"
   ]
  },
  {
   "cell_type": "code",
   "execution_count": null,
   "metadata": {},
   "outputs": [],
   "source": []
  }
 ],
 "metadata": {
  "kernelspec": {
   "display_name": "cv",
   "language": "python",
   "name": "python3"
  },
  "language_info": {
   "codemirror_mode": {
    "name": "ipython",
    "version": 3
   },
   "file_extension": ".py",
   "mimetype": "text/x-python",
   "name": "python",
   "nbconvert_exporter": "python",
   "pygments_lexer": "ipython3",
   "version": "3.9.16"
  }
 },
 "nbformat": 4,
 "nbformat_minor": 2
}
