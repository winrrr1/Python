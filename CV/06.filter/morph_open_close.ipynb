{
 "cells": [
  {
   "cell_type": "code",
   "execution_count": 3,
   "metadata": {},
   "outputs": [],
   "source": [
    "import cv2\n",
    "import numpy as np\n",
    "\n",
    "# 이미지 불러오기 (그레이스케일로 변환)\n",
    "img1 = cv2.imread('../img/morph_dot.png', cv2.IMREAD_GRAYSCALE)\n",
    "img2 = cv2.imread('../img/morph_hole.png', cv2.IMREAD_GRAYSCALE)    \n",
    "\n",
    "# 구조화 요소 커널 생성 (5x5 크기의 사각형 커널) ---①\n",
    "k = cv2.getStructuringElement(cv2.MORPH_RECT, (5,5))\n",
    "\n",
    "# 열림 연산 적용 (침식 후 팽창) ---②\n",
    "opening = cv2.morphologyEx(img1, cv2.MORPH_OPEN, k)\n",
    "\n",
    "# 닫힘 연산 적용 (팽창 후 침식) ---③\n",
    "closing = cv2.morphologyEx(img2, cv2.MORPH_CLOSE, k)\n",
    "\n",
    "# 결과 출력 (이미지들을 수평 및 수직으로 합침)\n",
    "merged1 = np.hstack((img1, opening))  # img1과 opening을 가로로 합침\n",
    "merged2 = np.hstack((img2, closing))  # img2와 closing을 가로로 합침\n",
    "merged3 = np.vstack((merged1, merged2))  # 두 개의 합친 이미지를 세로로 합침\n",
    "\n",
    "cv2.imwrite('C:/Users/winrr/Pictures/Screenshots/pfile/morph_open_close.jpg',merged3) \n",
    "cv2.imshow('opening, closing', merged3)\n",
    "cv2.waitKey(0)\n",
    "cv2.destroyAllWindows()\n"
   ]
  },
  {
   "cell_type": "code",
   "execution_count": null,
   "metadata": {},
   "outputs": [],
   "source": []
  }
 ],
 "metadata": {
  "kernelspec": {
   "display_name": "cv",
   "language": "python",
   "name": "python3"
  },
  "language_info": {
   "codemirror_mode": {
    "name": "ipython",
    "version": 3
   },
   "file_extension": ".py",
   "mimetype": "text/x-python",
   "name": "python",
   "nbconvert_exporter": "python",
   "pygments_lexer": "ipython3",
   "version": "3.9.16"
  }
 },
 "nbformat": 4,
 "nbformat_minor": 2
}
