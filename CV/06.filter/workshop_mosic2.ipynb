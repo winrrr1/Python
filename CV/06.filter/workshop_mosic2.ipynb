{
 "cells": [
  {
   "cell_type": "code",
   "execution_count": 2,
   "metadata": {},
   "outputs": [],
   "source": [
    "import cv2\n",
    "\n",
    "ksize = 30              # 블러 처리에 사용할 커널 크기\n",
    "win_title = 'mosaic'    # 창 제목\n",
    "img = cv2.imread('../img/taekwonv1.jpg')    # 이미지 읽기\n",
    "\n",
    "while True:\n",
    "    # 사용자가 관심 영역(ROI)을 선택\n",
    "    x, y, w, h = cv2.selectROI(win_title, img, False)\n",
    "    \n",
    "    # 폭과 높이가 양수일 경우(즉, 드래그 방향이 올바를 경우)\n",
    "    if w > 0 and h > 0:\n",
    "        roi = img[y:y+h, x:x+w]   # 관심 영역 지정\n",
    "        roi = cv2.blur(roi, (ksize, ksize)) # 블러(모자이크) 처리\n",
    "        img[y:y+h, x:x+w] = roi   # 원본 이미지에 모자이크 적용\n",
    "        cv2.imshow(win_title, img)  # 결과 이미지 표시\n",
    "    else:\n",
    "        break  # 드래그 방향이 올바르지 않거나 종료할 경우 루프 종료\n",
    "\n",
    "# 모든 OpenCV 창 닫기\n",
    "cv2.destroyAllWindows()\n"
   ]
  },
  {
   "cell_type": "code",
   "execution_count": null,
   "metadata": {},
   "outputs": [],
   "source": []
  }
 ],
 "metadata": {
  "kernelspec": {
   "display_name": "cv",
   "language": "python",
   "name": "python3"
  },
  "language_info": {
   "codemirror_mode": {
    "name": "ipython",
    "version": 3
   },
   "file_extension": ".py",
   "mimetype": "text/x-python",
   "name": "python",
   "nbconvert_exporter": "python",
   "pygments_lexer": "ipython3",
   "version": "3.9.16"
  }
 },
 "nbformat": 4,
 "nbformat_minor": 2
}
