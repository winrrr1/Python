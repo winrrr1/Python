{
 "cells": [
  {
   "cell_type": "code",
   "execution_count": 2,
   "metadata": {},
   "outputs": [
    {
     "name": "stdout",
     "output_type": "stream",
     "text": [
      "k1: [[0.0625 0.125  0.0625]\n",
      " [0.125  0.25   0.125 ]\n",
      " [0.0625 0.125  0.0625]]\n",
      "k2: [[0.0625 0.125  0.0625]\n",
      " [0.125  0.25   0.125 ]\n",
      " [0.0625 0.125  0.0625]]\n"
     ]
    }
   ],
   "source": [
    "import cv2\n",
    "import numpy as np\n",
    "\n",
    "img = cv2.imread('../img/gaussian_noise.jpg')  # 이미지를 읽어옴\n",
    "\n",
    "# 가우시안 커널을 직접 생성해서 블러링  ---①\n",
    "k1 = np.array([[1, 2, 1],\n",
    "                   [2, 4, 2],\n",
    "                   [1, 2, 1]]) *(1/16)  # 가우시안 커널 생성\n",
    "blur1 = cv2.filter2D(img, -1, k1)  # 생성한 커널을 사용해 이미지를 블러 처리\n",
    "\n",
    "# 가우시안 커널을 API로 얻어서 블러링 ---②\n",
    "k2 = cv2.getGaussianKernel(3, 0)  # OpenCV API를 사용해 1차원 가우시안 커널 생성\n",
    "blur2 = cv2.filter2D(img, -1, k2*k2.T)  # 생성한 1차원 커널을 2차원으로 변환해 블러 처리\n",
    "\n",
    "# 가우시안 블러 API로 블러링 ---③\n",
    "blur3 = cv2.GaussianBlur(img, (3, 3), 0)  # OpenCV API를 사용해 가우시안 블러 처리\n",
    "\n",
    "# 결과 출력\n",
    "print('k1:', k1)  # 직접 생성한 가우시안 커널 출력\n",
    "print('k2:', k2*k2.T)  # OpenCV API로 생성한 가우시안 커널 출력\n",
    "merged = np.hstack((img, blur1, blur2, blur3))  # 원본 이미지와 블러 처리된 이미지를 가로로 병합\n",
    "cv2.imshow('gaussian blur', merged)  # 병합된 이미지 창에 표시\n",
    "cv2.waitKey(0)  # 키 입력 대기\n",
    "cv2.destroyAllWindows()  # 모든 창 닫기\n"
   ]
  },
  {
   "cell_type": "code",
   "execution_count": null,
   "metadata": {},
   "outputs": [],
   "source": []
  }
 ],
 "metadata": {
  "kernelspec": {
   "display_name": "cv",
   "language": "python",
   "name": "python3"
  },
  "language_info": {
   "codemirror_mode": {
    "name": "ipython",
    "version": 3
   },
   "file_extension": ".py",
   "mimetype": "text/x-python",
   "name": "python",
   "nbconvert_exporter": "python",
   "pygments_lexer": "ipython3",
   "version": "3.9.16"
  }
 },
 "nbformat": 4,
 "nbformat_minor": 2
}
