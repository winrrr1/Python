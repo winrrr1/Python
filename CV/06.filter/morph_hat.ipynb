{
 "cells": [
  {
   "cell_type": "code",
   "execution_count": 2,
   "metadata": {},
   "outputs": [],
   "source": [
    "import cv2\n",
    "import numpy as np\n",
    "\n",
    "# 이미지 읽기\n",
    "img = cv2.imread('../img/moon_gray.jpg')\n",
    "\n",
    "# 구조화 요소 커널 생성 (9x9 크기의 사각형 커널) ---①\n",
    "k = cv2.getStructuringElement(cv2.MORPH_RECT, (9,9))\n",
    "\n",
    "# 탑햇 연산 적용 ---②\n",
    "tophat = cv2.morphologyEx(img, cv2.MORPH_TOPHAT, k)\n",
    "\n",
    "# 블랙햇 연산 적용 ---③\n",
    "blackhat = cv2.morphologyEx(img, cv2.MORPH_BLACKHAT, k)\n",
    "\n",
    "# 결과 출력 (원본, 탑햇, 블랙햇 이미지를 나란히 합쳐서 출력)\n",
    "merged = np.hstack((img, tophat, blackhat))\n",
    "cv2.imwrite('C:/Users/winrr/Pictures/Screenshots/pfile/motph_hat.jpg',merged) \n",
    "cv2.imshow('tophat blackhat', merged)\n",
    "cv2.waitKey(0)\n",
    "cv2.destroyAllWindows()\n"
   ]
  },
  {
   "cell_type": "code",
   "execution_count": 7,
   "metadata": {},
   "outputs": [],
   "source": [
    "import cv2\n",
    "import numpy as np\n",
    "\n",
    "# 이미지 읽기\n",
    "img = cv2.imread('../img/su3.jpg')\n",
    "\n",
    "# 구조화 요소 커널 생성 (9x9 크기의 사각형 커널) ---①\n",
    "k = cv2.getStructuringElement(cv2.MORPH_RECT, (9,9))\n",
    "\n",
    "# 탑햇 연산 적용 ---②\n",
    "tophat = cv2.morphologyEx(img, cv2.MORPH_TOPHAT, k)\n",
    "\n",
    "# 블랙햇 연산 적용 ---③\n",
    "blackhat = cv2.morphologyEx(img, cv2.MORPH_BLACKHAT, k)\n",
    "\n",
    "# 결과 출력 (원본, 탑햇, 블랙햇 이미지를 나란히 합쳐서 출력)\n",
    "merged = np.hstack((img, tophat, blackhat))\n",
    "cv2.imwrite('C:/Users/winrr/Pictures/Screenshots/pfile/motph_hat4.jpg',merged) \n",
    "cv2.imshow('tophat blackhat', merged)\n",
    "cv2.waitKey(0)\n",
    "cv2.destroyAllWindows()\n"
   ]
  },
  {
   "cell_type": "code",
   "execution_count": null,
   "metadata": {},
   "outputs": [],
   "source": []
  }
 ],
 "metadata": {
  "kernelspec": {
   "display_name": "cv",
   "language": "python",
   "name": "python3"
  },
  "language_info": {
   "codemirror_mode": {
    "name": "ipython",
    "version": 3
   },
   "file_extension": ".py",
   "mimetype": "text/x-python",
   "name": "python",
   "nbconvert_exporter": "python",
   "pygments_lexer": "ipython3",
   "version": "3.9.16"
  }
 },
 "nbformat": 4,
 "nbformat_minor": 2
}
