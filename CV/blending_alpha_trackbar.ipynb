{
 "cells": [
  {
   "cell_type": "code",
   "execution_count": 2,
   "metadata": {},
   "outputs": [],
   "source": [
    "import cv2\n",
    "import numpy as np\n",
    "\n",
    "win_name = 'Alpha blending'     # 창 이름 설정\n",
    "trackbar_name = 'fade'          # 트랙바 이름 설정\n",
    "\n",
    "# ---① 트랙바 이벤트 핸들러 함수\n",
    "# 트랙바가 움직일 때마다 호출되는 함수\n",
    "def onChange(x):\n",
    "    alpha = x / 100  # 트랙바의 값(x)을 100으로 나누어 0.0 ~ 1.0 사이의 알파 값으로 변환\n",
    "    # img1과 img2를 알파 값에 따라 블렌딩하여 합성\n",
    "    dst = cv2.addWeighted(img1, 1 - alpha, img2, alpha, 0) \n",
    "    cv2.imshow(win_name, dst)  # 합성된 이미지를 표시\n",
    "\n",
    "# ---② 합성에 사용할 이미지 읽기\n",
    "img1 = cv2.imread('../img/man_face.jpg')  # 첫 번째 이미지 읽기\n",
    "img2 = cv2.imread('../img/lion_face.jpg')  # 두 번째 이미지 읽기\n",
    "\n",
    "# 이미지를 제대로 읽어왔는지 확인\n",
    "if img1 is None or img2 is None:\n",
    "    print(\"이미지 파일을 찾을 수 없습니다. 경로를 확인하세요.\")\n",
    "    exit()\n",
    "\n",
    "# ---③ 이미지 표시 및 트랙바 붙이기\n",
    "cv2.imshow(win_name, img1)  # 첫 번째 이미지를 먼저 창에 표시\n",
    "# 트랙바 생성: 트랙바가 움직일 때마다 onChange 함수가 호출됨\n",
    "cv2.createTrackbar(trackbar_name, win_name, 0, 100, onChange)\n",
    "\n",
    "cv2.waitKey()  # 사용자가 키를 누를 때까지 대기\n",
    "cv2.destroyAllWindows()  # 모든 창을 닫음\n"
   ]
  },
  {
   "cell_type": "code",
   "execution_count": null,
   "metadata": {},
   "outputs": [],
   "source": []
  }
 ],
 "metadata": {
  "kernelspec": {
   "display_name": "cv",
   "language": "python",
   "name": "python3"
  },
  "language_info": {
   "codemirror_mode": {
    "name": "ipython",
    "version": 3
   },
   "file_extension": ".py",
   "mimetype": "text/x-python",
   "name": "python",
   "nbconvert_exporter": "python",
   "pygments_lexer": "ipython3",
   "version": "3.9.16"
  }
 },
 "nbformat": 4,
 "nbformat_minor": 2
}
