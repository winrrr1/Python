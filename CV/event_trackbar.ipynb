{
 "cells": [
  {
   "cell_type": "code",
   "execution_count": 28,
   "metadata": {},
   "outputs": [
    {
     "name": "stdout",
     "output_type": "stream",
     "text": [
      "1\n",
      "0 0 1\n",
      "7\n",
      "0 0 7\n",
      "18\n",
      "0 0 18\n",
      "51\n",
      "0 0 51\n",
      "72\n",
      "0 0 72\n",
      "91\n",
      "0 0 91\n",
      "108\n",
      "0 0 108\n",
      "119\n",
      "0 0 119\n",
      "129\n",
      "0 0 129\n",
      "135\n",
      "0 0 135\n",
      "141\n",
      "0 0 141\n",
      "146\n",
      "0 0 146\n",
      "148\n",
      "0 0 148\n",
      "149\n",
      "0 0 149\n",
      "152\n",
      "0 0 152\n",
      "153\n",
      "0 0 153\n"
     ]
    }
   ],
   "source": [
    "import cv2\n",
    "import numpy as np\n",
    "\n",
    "win_name = 'Trackbar'  # 창 제목 설정\n",
    "\n",
    "# 이미지 파일 읽기\n",
    "img = cv2.imread('../img/blank_500.jpg')\n",
    "\n",
    "# # 이미지가 제대로 로드되었는지 확인\n",
    "# if img is None:\n",
    "#     print('이미지를 불러올 수 없습니다. 파일 경로를 확인하십시오.')\n",
    "#     exit()\n",
    "\n",
    "# 윈도우 생성\n",
    "cv2.imshow(win_name, img)\n",
    "\n",
    "# 트랙바 이벤트 처리 함수 정의\n",
    "def onChange(x):\n",
    "    print(x)\n",
    "    # 'R', 'G', 'B' 각 트랙바의 현재 위치 값 읽기\n",
    "    r = cv2.getTrackbarPos('R', win_name)\n",
    "    g = cv2.getTrackbarPos('G', win_name)\n",
    "    b = cv2.getTrackbarPos('B', win_name)\n",
    "    \n",
    "    # 현재 RGB 값 출력\n",
    "    print(r, g, b)\n",
    "    \n",
    "    # 이미지의 모든 픽셀에 새로운 색상 적용\n",
    "    # img_display = img.copy()  # 원본 이미지를 유지하기 위해 복사본 사용\n",
    "    img[:] = [b, g, r]  # OpenCV는 BGR 포맷을 사용하므로 R, G, B 순서로 적용\n",
    "    \n",
    "    # 업데이트된 이미지를 창에 다시 표시\n",
    "    cv2.imshow(win_name, img)\n",
    "\n",
    "# 트랙바 생성\n",
    "cv2.createTrackbar('R', win_name, 0, 255, onChange)\n",
    "cv2.createTrackbar('G', win_name, 0, 255, onChange)\n",
    "cv2.createTrackbar('B', win_name, 0, 255, onChange)\n",
    "\n",
    "# 무한 루프를 돌며 키 입력 대기\n",
    "while True:\n",
    "    if cv2.waitKey(1) & 0xFF == 27:  # ESC 키를 눌러 종료\n",
    "        break\n",
    "\n",
    "# 모든 윈도우 닫기\n",
    "cv2.destroyAllWindows()\n"
   ]
  },
  {
   "cell_type": "code",
   "execution_count": null,
   "metadata": {},
   "outputs": [],
   "source": []
  }
 ],
 "metadata": {
  "kernelspec": {
   "display_name": "cv",
   "language": "python",
   "name": "python3"
  },
  "language_info": {
   "codemirror_mode": {
    "name": "ipython",
    "version": 3
   },
   "file_extension": ".py",
   "mimetype": "text/x-python",
   "name": "python",
   "nbconvert_exporter": "python",
   "pygments_lexer": "ipython3",
   "version": "3.9.16"
  }
 },
 "nbformat": 4,
 "nbformat_minor": 2
}
