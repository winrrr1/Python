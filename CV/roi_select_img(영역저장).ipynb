{
 "cells": [
  {
   "cell_type": "code",
   "execution_count": 1,
   "metadata": {},
   "outputs": [],
   "source": [
    "import cv2,  numpy as np\n",
    "\n",
    "\n",
    "img = cv2.imread('../img/actor.jpg')\n",
    "\n",
    "x,y,w,h\t=\tcv2.selectROI('img', img, True) # 트루로 바꾸면 십자영역 표시 \n",
    "if w and h:\n",
    "    roi = img[y:y+h, x:x+w]\n",
    "    cv2.imshow('cropped', roi)  # ROI 지정 영역을 새창으로 표시\n",
    "    cv2.moveWindow('cropped', 0, 0) # 새창을 화면 좌측 상단에 이동\n",
    "    cv2.imwrite('./area1.jpg', roi)   # ROI 영역만 파일로 저장 # 영역 파일명 한글로 할때 저장 안됨! \n",
    "\n",
    "cv2.imshow('img', img)\n",
    "cv2.waitKey(0)\n",
    "cv2.destroyAllWindows()\n"
   ]
  },
  {
   "cell_type": "code",
   "execution_count": null,
   "metadata": {},
   "outputs": [],
   "source": []
  }
 ],
 "metadata": {
  "kernelspec": {
   "display_name": "cv",
   "language": "python",
   "name": "python3"
  },
  "language_info": {
   "codemirror_mode": {
    "name": "ipython",
    "version": 3
   },
   "file_extension": ".py",
   "mimetype": "text/x-python",
   "name": "python",
   "nbconvert_exporter": "python",
   "pygments_lexer": "ipython3",
   "version": "3.9.16"
  }
 },
 "nbformat": 4,
 "nbformat_minor": 2
}
