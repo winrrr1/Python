{
 "cells": [
  {
   "cell_type": "code",
   "execution_count": 2,
   "metadata": {},
   "outputs": [],
   "source": [
    "import numpy as np\n",
    "import cv2\n",
    "\n",
    "#--① 이미지 읽기 (BGR 색상 공간)\n",
    "img = cv2.imread('../img/yate.jpg')  # 이미지를 BGR 색상 공간으로 읽어옵니다.\n",
    "\n",
    "#--② BGR 색상 공간에서 YUV 색상 공간으로 변경\n",
    "img_yuv = cv2.cvtColor(img, cv2.COLOR_BGR2YUV)  # BGR 색상 공간 이미지를 YUV 색상 공간으로 변환합니다.\n",
    "\n",
    "#--③ YUV 색상 공간의 Y 채널에 대해서만 히스토그램 평활화 적용\n",
    "img_yuv[:,:,0] = cv2.equalizeHist(img_yuv[:,:,0])  # Y 채널(밝기 정보)에 대해 히스토그램 평활화를 적용합니다.\n",
    "\n",
    "#--④ YUV 색상 공간에서 다시 BGR 색상 공간으로 변경\n",
    "img2 = cv2.cvtColor(img_yuv, cv2.COLOR_YUV2BGR)  # YUV 색상 공간 이미지를 BGR 색상 공간으로 변환합니다.\n",
    "\n",
    "#--⑤ 결과 출력\n",
    "cv2.imshow('Before', img)  # 히스토그램 평활화 적용 전 원본 이미지를 화면에 표시합니다.\n",
    "cv2.imshow('After', img2)  # 히스토그램 평활화 적용 후 이미지를 화면에 표시합니다.\n",
    "cv2.waitKey()  # 키 입력을 대기합니다.\n",
    "cv2.destroyAllWindows()  # 모든 OpenCV 창을 닫습니다.\n"
   ]
  },
  {
   "cell_type": "code",
   "execution_count": 4,
   "metadata": {},
   "outputs": [],
   "source": [
    "import numpy as np\n",
    "import cv2\n",
    "\n",
    "#--① 이미지 읽기 (BGR 색상 공간)\n",
    "img = cv2.imread('../img/anm.jpg')  # 이미지를 BGR 색상 공간으로 읽어옵니다.\n",
    "\n",
    "#--② BGR 색상 공간에서 YUV 색상 공간으로 변경\n",
    "img_yuv = cv2.cvtColor(img, cv2.COLOR_BGR2YUV)  # BGR 색상 공간 이미지를 YUV 색상 공간으로 변환합니다.\n",
    "\n",
    "#--③ YUV 색상 공간의 Y 채널에 대해서만 히스토그램 평활화 적용\n",
    "img_yuv[:,:,0] = cv2.equalizeHist(img_yuv[:,:,0])  # Y 채널(밝기 정보)에 대해 히스토그램 평활화를 적용합니다.\n",
    "\n",
    "#--④ YUV 색상 공간에서 다시 BGR 색상 공간으로 변경\n",
    "img2 = cv2.cvtColor(img_yuv, cv2.COLOR_YUV2BGR)  # YUV 색상 공간 이미지를 BGR 색상 공간으로 변환합니다.\n",
    "\n",
    "#--⑤ 결과 출력\n",
    "cv2.imshow('Before', img)  # 히스토그램 평활화 적용 전 원본 이미지를 화면에 표시합니다.\n",
    "cv2.imshow('After', img2)  # 히스토그램 평활화 적용 후 이미지를 화면에 표시합니다.\n",
    "cv2.waitKey()  # 키 입력을 대기합니다.\n",
    "cv2.destroyAllWindows()  # 모든 OpenCV 창을 닫습니다.\n"
   ]
  },
  {
   "cell_type": "code",
   "execution_count": null,
   "metadata": {},
   "outputs": [],
   "source": []
  }
 ],
 "metadata": {
  "kernelspec": {
   "display_name": "cv",
   "language": "python",
   "name": "python3"
  },
  "language_info": {
   "codemirror_mode": {
    "name": "ipython",
    "version": 3
   },
   "file_extension": ".py",
   "mimetype": "text/x-python",
   "name": "python",
   "nbconvert_exporter": "python",
   "pygments_lexer": "ipython3",
   "version": "3.9.16"
  }
 },
 "nbformat": 4,
 "nbformat_minor": 2
}
