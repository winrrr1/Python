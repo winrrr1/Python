{
 "cells": [
  {
   "cell_type": "code",
   "execution_count": 3,
   "metadata": {},
   "outputs": [
    {
     "name": "stdout",
     "output_type": "stream",
     "text": [
      "<class 'numpy.ndarray'> (332, 1, 2) int32\n"
     ]
    },
    {
     "name": "stderr",
     "output_type": "stream",
     "text": [
      "C:\\Users\\winrr\\AppData\\Local\\Temp\\ipykernel_12356\\3090770846.py:22: DeprecationWarning: `np.int0` is a deprecated alias for `np.intp`.  (Deprecated NumPy 1.24)\n",
      "  box = np.int0(box)          # 정수로 변환\n",
      "C:\\Users\\winrr\\AppData\\Local\\Temp\\ipykernel_12356\\3090770846.py:40: DeprecationWarning: Conversion of an array with ndim > 0 to a scalar is deprecated, and will error in future. Ensure you extract a single element from your array before performing this operation. (Deprecated NumPy 1.25.)\n",
      "  cv2.line(img, (0, int(0-x*(vy/vx) + y)), (cols-1, int((cols-x)*(vy/vx) + y)), \\\n"
     ]
    }
   ],
   "source": [
    "import cv2\n",
    "import numpy as np\n",
    "\n",
    "# 이미지 읽어서 그레이스케일 변환, 바이너리 스케일 변환\n",
    "img = cv2.imread(\"../img/lightning.png\")\n",
    "imgray = cv2.cvtColor(img, cv2.COLOR_BGR2GRAY)\n",
    "ret, th = cv2.threshold(imgray, 127,255,cv2.THRESH_BINARY_INV)\n",
    "\n",
    "# 컨튜어 찾기\n",
    "contours, hr = cv2.findContours(th, cv2.RETR_EXTERNAL, \\\n",
    "                                        cv2.CHAIN_APPROX_SIMPLE)[-2:]\n",
    "contr = contours[0]\n",
    "print(type(contr), contr.shape, contr.dtype)\n",
    "\n",
    "# 감싸는 사각형 표시(검정색)\n",
    "x,y,w,h = cv2.boundingRect(contr)\n",
    "cv2.rectangle(img, (x,y), (x+w, y+h), (0,0,0), 3)\n",
    "\n",
    "# 최소한의 사각형 표시(초록색)\n",
    "rect = cv2.minAreaRect(contr)\n",
    "box = cv2.boxPoints(rect)   # 중심점과 각도를 4개의 꼭지점 좌표로 변환\n",
    "box = np.int0(box)          # 정수로 변환\n",
    "cv2.drawContours(img, [box], -1, (0,255,0), 3)\n",
    "\n",
    "# 최소한의 원 표시(파랑색)\n",
    "(x,y), radius = cv2.minEnclosingCircle(contr)\n",
    "cv2.circle(img, (int(x), int(y)), int(radius), (255,0,0), 2)\n",
    "\n",
    "# 최소한의 삼각형 표시(분홍색)\n",
    "ret, tri = cv2.minEnclosingTriangle(np.float32(contr))\n",
    "cv2.polylines(img, [np.int32(tri)], True, (255,0,255), 2)\n",
    "\n",
    "# 최소한의 타원 표시(노랑색)\n",
    "ellipse = cv2.fitEllipse(contr)\n",
    "cv2.ellipse(img, ellipse, (0,255,255), 3)\n",
    "\n",
    "# 중심점 통과하는 직선 표시(빨강색)\n",
    "vx,vy,x,y = cv2.fitLine(contr, cv2.DIST_L2,0,0.01,0.01)\n",
    "cols,rows = img.shape[:2]\n",
    "cv2.line(img, (0, int(0-x*(vy/vx) + y)), (cols-1, int((cols-x)*(vy/vx) + y)), \\\n",
    "                                                        (0,0,255),2)\n",
    "\n",
    "# 결과 출력\n",
    "cv2.imwrite('C:/Users/winrr/Pictures/Screenshots/pfile/cntr_bound_fit.jpg',img) \n",
    "cv2.imshow('Bound Fit shapes', img)\n",
    "cv2.waitKey(0)\n",
    "cv2.destroyAllWindows()"
   ]
  },
  {
   "cell_type": "code",
   "execution_count": 13,
   "metadata": {},
   "outputs": [
    {
     "name": "stdout",
     "output_type": "stream",
     "text": [
      "<class 'numpy.ndarray'> (332, 1, 2) int32\n"
     ]
    },
    {
     "name": "stderr",
     "output_type": "stream",
     "text": [
      "C:\\Users\\winrr\\AppData\\Local\\Temp\\ipykernel_12356\\3753769244.py:21: DeprecationWarning: `np.int0` is a deprecated alias for `np.intp`.  (Deprecated NumPy 1.24)\n",
      "  box = np.int0(box)          # 좌표를 정수로 변환\n",
      "C:\\Users\\winrr\\AppData\\Local\\Temp\\ipykernel_12356\\3753769244.py:39: DeprecationWarning: Conversion of an array with ndim > 0 to a scalar is deprecated, and will error in future. Ensure you extract a single element from your array before performing this operation. (Deprecated NumPy 1.25.)\n",
      "  cv2.line(img, (0, int(0 - x * (vy / vx) + y)), (cols - 1, int((cols - x) * (vy / vx) + y)), (0, 0, 255), 2)\n"
     ]
    }
   ],
   "source": [
    "import cv2\n",
    "import numpy as np\n",
    "\n",
    "# 이미지 읽어서 그레이스케일로 변환, 이진 이미지로 변환\n",
    "img = cv2.imread(\"../img/lightning.png\")\n",
    "imgray = cv2.cvtColor(img, cv2.COLOR_BGR2GRAY)\n",
    "ret, th = cv2.threshold(imgray, 127, 255, cv2.THRESH_BINARY_INV)\n",
    "\n",
    "# 외곽선 찾기\n",
    "contours, hr = cv2.findContours(th, cv2.RETR_EXTERNAL, cv2.CHAIN_APPROX_SIMPLE)[-2:]\n",
    "contr = contours[0]\n",
    "print(type(contr), contr.shape, contr.dtype)\n",
    "\n",
    "# 감싸는 사각형 표시 (검정색)\n",
    "x, y, w, h = cv2.boundingRect(contr)\n",
    "cv2.rectangle(img, (x, y), (x + w, y + h), (0, 0, 0), 3)\n",
    "\n",
    "# 최소한의 회전된 사각형 표시 (초록색)\n",
    "rect = cv2.minAreaRect(contr)\n",
    "box = cv2.boxPoints(rect)   # 중심점과 각도를 4개의 꼭지점 좌표로 변환\n",
    "box = np.int0(box)          # 좌표를 정수로 변환\n",
    "cv2.drawContours(img, [box], -1, (0, 255, 0), 3)\n",
    "\n",
    "# 최소한의 원 표시 (파란색)\n",
    "(x, y), radius = cv2.minEnclosingCircle(contr)\n",
    "cv2.circle(img, (int(x), int(y)), int(radius), (255, 0, 0), 2)\n",
    "\n",
    "# 최소한의 삼각형 표시 (분홍색)\n",
    "ret, tri = cv2.minEnclosingTriangle(np.float32(contr))\n",
    "cv2.polylines(img, [np.int32(tri)], True, (255, 0, 255), 2)\n",
    "\n",
    "# 최소한의 타원 표시 (노란색)\n",
    "ellipse = cv2.fitEllipse(contr)\n",
    "cv2.ellipse(img, ellipse, (0, 255, 255), 3)\n",
    "\n",
    "# 중심을 통과하는 직선 표시 (빨간색)\n",
    "vx, vy, x, y = cv2.fitLine(contr, cv2.DIST_L2, 0, 0.01, 0.01)\n",
    "cols, rows = img.shape[:2]\n",
    "cv2.line(img, (0, int(0 - x * (vy / vx) + y)), (cols - 1, int((cols - x) * (vy / vx) + y)), (0, 0, 255), 2)\n",
    "\n",
    "# 결과 출력\n",
    "cv2.imshow('Bound Fit shapes', img)\n",
    "cv2.waitKey(0)\n",
    "cv2.destroyAllWindows()\n"
   ]
  },
  {
   "cell_type": "code",
   "execution_count": null,
   "metadata": {},
   "outputs": [],
   "source": []
  }
 ],
 "metadata": {
  "kernelspec": {
   "display_name": "cv",
   "language": "python",
   "name": "python3"
  },
  "language_info": {
   "codemirror_mode": {
    "name": "ipython",
    "version": 3
   },
   "file_extension": ".py",
   "mimetype": "text/x-python",
   "name": "python",
   "nbconvert_exporter": "python",
   "pygments_lexer": "ipython3",
   "version": "3.9.16"
  }
 },
 "nbformat": 4,
 "nbformat_minor": 2
}
