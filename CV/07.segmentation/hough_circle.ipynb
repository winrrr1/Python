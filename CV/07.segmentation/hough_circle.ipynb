{
 "cells": [
  {
   "cell_type": "code",
   "execution_count": 10,
   "metadata": {},
   "outputs": [],
   "source": [
    "import cv2\n",
    "import numpy as np\n",
    "\n",
    "img = cv2.imread('../img/coins_spread1.jpg')\n",
    "# 그레이 스케일 변환 ---①\n",
    "gray = cv2.cvtColor(img, cv2.COLOR_BGR2GRAY)\n",
    "# 노이즈 제거를 위한 가우시안 블러 ---②\n",
    "blur = cv2.GaussianBlur(gray, (3,3), 0)\n",
    "# 허프 원 변환 적용( dp=1.5, minDist=30, cany_max=200 ) ---③\n",
    "circles = cv2.HoughCircles(blur, cv2.HOUGH_GRADIENT, 1.5, 30, None, 200)\n",
    "if circles is not None:\n",
    "    circles = np.uint16(np.around(circles))\n",
    "    for i in circles[0,:]:\n",
    "        # 원 둘레에 초록색 원 그리기\n",
    "        cv2.circle(img,(i[0], i[1]), i[2], (0, 255, 0), 2)\n",
    "        # 원 중심점에 빨강색 원 그리기\n",
    "        cv2.circle(img, (i[0], i[1]), 2, (0,0,255), 5)\n",
    "\n",
    "# 결과 출력\n",
    "cv2.imshow('hough circle', img)\n",
    "cv2.imwrite(r'C:\\Users\\winrr\\Pictures\\Screenshots\\pfile\\ch07hough_cicle.png', img)\n",
    "cv2.waitKey(0)\n",
    "cv2.destroyAllWindows()\n",
    "    "
   ]
  },
  {
   "cell_type": "code",
   "execution_count": 9,
   "metadata": {},
   "outputs": [],
   "source": [
    "import cv2\n",
    "import numpy as np\n",
    "\n",
    "# 이미지 읽기\n",
    "img = cv2.imread('../img/tes.png')\n",
    "\n",
    "# 그레이스케일로 변환 ---①\n",
    "gray = cv2.cvtColor(img, cv2.COLOR_BGR2GRAY)\n",
    "\n",
    "# 노이즈 제거를 위한 가우시안 블러 적용 ---②\n",
    "blur = cv2.GaussianBlur(gray, (3,3), 0)\n",
    "\n",
    "# 허프 원 변환 적용 (dp=1.5, minDist=30, canny_max=200) ---③\n",
    "circles = cv2.HoughCircles(blur, cv2.HOUGH_GRADIENT, 1.5, 30, None, 200)\n",
    "\n",
    "# 원이 검출된 경우\n",
    "if circles is not None:\n",
    "    circles = np.uint16(np.around(circles))\n",
    "    for i in circles[0,:]:\n",
    "        # 원 둘레에 초록색 원 그리기\n",
    "        cv2.circle(img, (i[0], i[1]), i[2], (0, 255, 0), 2)\n",
    "        # 원 중심에 빨강색 원 그리기\n",
    "        cv2.circle(img, (i[0], i[1]), 2, (0, 0, 255), 5)\n",
    "\n",
    "# 결과 출력\n",
    "cv2.imshow('hough circle', img)\n",
    "cv2.waitKey(0)\n",
    "cv2.destroyAllWindows()\n"
   ]
  },
  {
   "cell_type": "code",
   "execution_count": null,
   "metadata": {},
   "outputs": [],
   "source": []
  }
 ],
 "metadata": {
  "kernelspec": {
   "display_name": "cv",
   "language": "python",
   "name": "python3"
  },
  "language_info": {
   "codemirror_mode": {
    "name": "ipython",
    "version": 3
   },
   "file_extension": ".py",
   "mimetype": "text/x-python",
   "name": "python",
   "nbconvert_exporter": "python",
   "pygments_lexer": "ipython3",
   "version": "3.9.16"
  }
 },
 "nbformat": 4,
 "nbformat_minor": 2
}
